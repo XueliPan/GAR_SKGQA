{
 "cells": [
  {
   "cell_type": "code",
   "execution_count": 23,
   "id": "a216e4e8",
   "metadata": {},
   "outputs": [],
   "source": [
    "from google import genai\n",
    "from google.genai import types\n",
    "\n",
    "client = genai.Client()\n",
    "\n",
    "def get_response(prompt, instruction):\n",
    "    response = client.models.generate_content(\n",
    "    model=\"gemini-2.5-flash-lite\",\n",
    "    config=types.GenerateContentConfig(\n",
    "        system_instruction=instruction),\n",
    "    contents=prompt\n",
    ")\n",
    "    return response.text\n"
   ]
  },
  {
   "cell_type": "code",
   "execution_count": 48,
   "id": "a3a491bc",
   "metadata": {},
   "outputs": [
    {
     "name": "stdout",
     "output_type": "stream",
     "text": [
      "```json\n",
      "{\n",
      "  \"Entities\": [\"CHEMDNER corpus\"],\n",
      "  \"Properties\": [\"data format\"]\n",
      "}\n",
      "```\n"
     ]
    }
   ],
   "source": [
    "instruction = \"\"\"\n",
    "You are an expert in entity recognition and relation extraction. \n",
    "You will be given a question and you need to identify and extract all the entities and properties mentioned in the question. \n",
    "Please provide a list of entities and properties found in the following JSON format. Make sure to use double quotes for both the keys and string values. Make sure to use the raw json output instead of a markdown code block.\n",
    "\n",
    "{\n",
    "  \"Entities\": [\"entity1\", \"entity2\", \"...\"],\n",
    "  \"Properties\": [\"property1\", \"property2\", \"...\"]\n",
    "}\n",
    "\n",
    "If no entities or properties are found, please return empty lists.\n",
    "\"\"\"\n",
    "\n",
    "prompt = \"What data format does CHEMDNER corpus have?\"\n",
    "# prompt = \"Where did the study with maximal geographic scale take place?\"\n",
    "\n",
    "response = get_response(prompt, instruction)\n",
    "print(response)"
   ]
  },
  {
   "cell_type": "code",
   "execution_count": null,
   "id": "b0e8e6f3",
   "metadata": {},
   "outputs": [
    {
     "name": "stdout",
     "output_type": "stream",
     "text": [
      "Raw LLM output: {\n",
      "  \"Entities\": [\"CHEMDNER corpus\"],\n",
      "  \"Properties\": [\"data format\"]\n",
      "}\n",
      "Is response valid? True\n"
     ]
    }
   ],
   "source": [
    "\n",
    "\n",
    "# Example usage\n",
    "prompt = \"What data format does CHEMDNER corpus have?\"\n",
    "response = get_response(prompt, instruction)  # <-- LLM output\n",
    "print(\"Raw LLM output:\", response)\n",
    "print(\"Is response valid?\", validate_response(response))\n",
    "\n"
   ]
  },
  {
   "cell_type": "code",
   "execution_count": 41,
   "id": "fc5e86e3",
   "metadata": {},
   "outputs": [
    {
     "name": "stdout",
     "output_type": "stream",
     "text": [
      "query: \n",
      "        PREFIX rdfs: <http://www.w3.org/2000/01/rdf-schema#>\n",
      "\n",
      "        SELECT DISTINCT ?resource ?label\n",
      "        WHERE {\n",
      "        ?resource ?p ?o .\n",
      "        ?resource rdfs:label ?label .\n",
      "        FILTER ( CONTAINS(LCASE(STR(?label)), \"chemdner\") || CONTAINS(LCASE(STR(?label)), \"corpus\") )\n",
      "        }\n",
      "        \n",
      "{\"head\": {\"vars\": [\"resource\", \"label\"]}, \"results\": {\"bindings\": [{\"resource\": {\"type\": \"uri\", \"value\": \"http://orkg.org/orkg/resource/R36091\"}, \"label\": {\"type\": \"typed-literal\", \"datatype\": \"http://www.w3.org/2001/XMLSchema#string\", \"value\": \"A Large Public Corpus of Web Tables containing Time and Context Metadata\"}}, {\"resource\": {\"type\": \"uri\", \"value\": \"http://orkg.org/orkg/predicate/P59232\"}, \"label\": {\"type\": \"typed-literal\", \"datatype\": \"http://www.w3.org/2001/XMLSchema#string\", \"value\": \" Computational Linguistics & Corpus Annotation\"}}, {\"resource\": {\"type\": \"uri\", \"value\": \"http://orkg.org/orkg/resource/R44348\"}, \"label\": {\"type\": \"typed-literal\", \"datatype\": \"http://www.w3.org/2001/XMLSchema#string\", \"value\": \"ArabiCorpus\"}}, {\"resource\": {\"type\": \"uri\", \"value\": \"http://orkg.org/orkg/predicate/P92000\"}, \"label\": {\"type\": \"typed-literal\", \"datatype\": \"http://www.w3.org/2001/XMLSchema#string\", \"value\": \"Benchmark Corpus\"}}, {\"resource\": {\"type\": \"uri\", \"value\": \"http://orkg.org/orkg/resource/R41593\"}, \"label\": {\"type\": \"typed-literal\", \"datatype\": \"http://www.w3.org/2001/XMLSchema#string\", \"value\": \"BooksCorpus [Zhu et al., 2015]\"}}, {\"resource\": {\"type\": \"uri\", \"value\": \"http://orkg.org/orkg/resource/R44178\"}, \"label\": {\"type\": \"typed-literal\", \"datatype\": \"http://www.w3.org/2001/XMLSchema#string\", \"value\": \"BooksCorpus\"}}, {\"resource\": {\"type\": \"uri\", \"value\": \"http://orkg.org/orkg/resource/R44347\"}, \"label\": {\"type\": \"typed-literal\", \"datatype\": \"http://www.w3.org/2001/XMLSchema#string\", \"value\": \"Becker Riaz corpus\"}}, {\"resource\": {\"type\": \"uri\", \"value\": \"http://orkg.org/orkg/predicate/P36085\"}, \"label\": {\"type\": \"typed-literal\", \"datatype\": \"http://www.w3.org/2001/XMLSchema#string\", \"value\": \"Corpus genres\"}}, {\"resource\": {\"type\": \"uri\", \"value\": \"http://orkg.org/orkg/predicate/P36086\"}, \"label\": {\"type\": \"typed-literal\", \"datatype\": \"http://www.w3.org/2001/XMLSchema#string\", \"value\": \"Corpus sources\"}}, {\"resource\": {\"type\": \"uri\", \"value\": \"http://orkg.org/orkg/predicate/P36087\"}, \"label\": {\"type\": \"typed-literal\", \"datatype\": \"http://www.w3.org/2001/XMLSchema#string\", \"value\": \"Corpus statistics\"}}, {\"resource\": {\"type\": \"uri\", \"value\": \"http://orkg.org/orkg/predicate/P59091\"}, \"label\": {\"type\": \"typed-literal\", \"datatype\": \"http://www.w3.org/2001/XMLSchema#string\", \"value\": \"Corpus name\"}}, {\"resource\": {\"type\": \"uri\", \"value\": \"http://orkg.org/orkg/resource/R151551\"}, \"label\": {\"type\": \"typed-literal\", \"datatype\": \"http://www.w3.org/2001/XMLSchema#string\", \"value\": \"DDI corpus\"}}, {\"resource\": {\"type\": \"uri\", \"value\": \"http://orkg.org/orkg/resource/R34988\"}, \"label\": {\"type\": \"typed-literal\", \"datatype\": \"http://www.w3.org/2001/XMLSchema#string\", \"value\": \"Corpus-based\"}}, {\"resource\": {\"type\": \"uri\", \"value\": \"http://orkg.org/orkg/resource/R44356\"}, \"label\": {\"type\": \"typed-literal\", \"datatype\": \"http://www.w3.org/2001/XMLSchema#string\", \"value\": \"NCBI disease corpus\"}}, {\"resource\": {\"type\": \"uri\", \"value\": \"http://orkg.org/orkg/predicate/P59234\"}, \"label\": {\"type\": \"typed-literal\", \"datatype\": \"http://www.w3.org/2001/XMLSchema#string\", \"value\": \"Results on benchmark corpus\"}}, {\"resource\": {\"type\": \"uri\", \"value\": \"http://orkg.org/orkg/predicate/P59235\"}, \"label\": {\"type\": \"typed-literal\", \"datatype\": \"http://www.w3.org/2001/XMLSchema#string\", \"value\": \"Results on STSbenchmark corpus\"}}, {\"resource\": {\"type\": \"uri\", \"value\": \"http://orkg.org/orkg/predicate/P59236\"}, \"label\": {\"type\": \"typed-literal\", \"datatype\": \"http://www.w3.org/2001/XMLSchema#string\", \"value\": \"Results on STS benchmark corpus\"}}, {\"resource\": {\"type\": \"uri\", \"value\": \"http://orkg.org/orkg/predicate/P59255\"}, \"label\": {\"type\": \"typed-literal\", \"datatype\": \"http://www.w3.org/2001/XMLSchema#string\", \"value\": \"Results on STS benchmark corpus (Pearson's \\ud835\\udc93)\"}}, {\"resource\": {\"type\": \"uri\", \"value\": \"http://orkg.org/orkg/resource/R38511\"}, \"label\": {\"type\": \"typed-literal\", \"datatype\": \"http://www.w3.org/2001/XMLSchema#string\", \"value\": \"STM-corpus evaluation (full training data)\"}}, {\"resource\": {\"type\": \"uri\", \"value\": \"http://orkg.org/orkg/resource/R38513\"}, \"label\": {\"type\": \"typed-literal\", \"datatype\": \"http://www.w3.org/2001/XMLSchema#string\", \"value\": \"STM-corpus\"}}, {\"resource\": {\"type\": \"uri\", \"value\": \"http://orkg.org/orkg/resource/R38528\"}, \"label\": {\"type\": \"typed-literal\", \"datatype\": \"http://www.w3.org/2001/XMLSchema#string\", \"value\": \"STM-corpus evaluation (active learning)\"}}, {\"resource\": {\"type\": \"uri\", \"value\": \"http://orkg.org/orkg/resource/R123010\"}, \"label\": {\"type\": \"typed-literal\", \"datatype\": \"http://www.w3.org/2001/XMLSchema#string\", \"value\": \"STM-corpus\"}}, {\"resource\": {\"type\": \"uri\", \"value\": \"http://orkg.org/orkg/predicate/P41656\"}, \"label\": {\"type\": \"typed-literal\", \"datatype\": \"http://www.w3.org/2001/XMLSchema#string\", \"value\": \"Testing corpus\"}}, {\"resource\": {\"type\": \"uri\", \"value\": \"http://orkg.org/orkg/predicate/P41655\"}, \"label\": {\"type\": \"typed-literal\", \"datatype\": \"http://www.w3.org/2001/XMLSchema#string\", \"value\": \"Training corpus\"}}, {\"resource\": {\"type\": \"uri\", \"value\": \"http://orkg.org/orkg/resource/R38438\"}, \"label\": {\"type\": \"typed-literal\", \"datatype\": \"http://www.w3.org/2001/XMLSchema#string\", \"value\": \"Towards a Large Corpus of Richly Annotated Web Tables for Knowledge Base Population\"}}, {\"resource\": {\"type\": \"uri\", \"value\": \"http://orkg.org/orkg/resource/R117299\"}, \"label\": {\"type\": \"typed-literal\", \"datatype\": \"http://www.w3.org/2001/XMLSchema#string\", \"value\": \"ACCURAT balanced test corpus for under resourced languages Estonian-Russian\"}}, {\"resource\": {\"type\": \"uri\", \"value\": \"http://orkg.org/orkg/resource/R172668\"}, \"label\": {\"type\": \"typed-literal\", \"datatype\": \"http://www.w3.org/2001/XMLSchema#string\", \"value\": \"Penn Treebank WSJ corpus for part-of-speech (POS) tagging\"}}, {\"resource\": {\"type\": \"uri\", \"value\": \"http://orkg.org/orkg/resource/R148083\"}, \"label\": {\"type\": \"typed-literal\", \"datatype\": \"http://www.w3.org/2001/XMLSchema#string\", \"value\": \"Building a semantically annotated corpus of clinical texts\"}}, {\"resource\": {\"type\": \"uri\", \"value\": \"http://orkg.org/orkg/resource/R163843\"}, \"label\": {\"type\": \"typed-literal\", \"datatype\": \"http://www.w3.org/2001/XMLSchema#string\", \"value\": \"Comparisons and Visualizations of the CrossNER Benchmark Corpus for its Source and Target Domains\"}}, {\"resource\": {\"type\": \"uri\", \"value\": \"http://orkg.org/orkg/resource/R148009\"}, \"label\": {\"type\": \"typed-literal\", \"datatype\": \"http://www.w3.org/2001/XMLSchema#string\", \"value\": \"Knowtator: A Prot\\u00e9g\\u00e9 plug-in for annotated corpus construction\"}}, {\"resource\": {\"type\": \"uri\", \"value\": \"http://orkg.org/orkg/resource/R150719\"}, \"label\": {\"type\": \"typed-literal\", \"datatype\": \"http://www.w3.org/2001/XMLSchema#string\", \"value\": \"BioCreative IV CHEMDNER chemical mention recognition task\"}}, {\"resource\": {\"type\": \"uri\", \"value\": \"http://orkg.org/orkg/resource/R69297\"}, \"label\": {\"type\": \"typed-literal\", \"datatype\": \"http://www.w3.org/2001/XMLSchema#string\", \"value\": \"BioCreative V CDR task corpus: a resource for chemical disease relation extraction\"}}, {\"resource\": {\"type\": \"uri\", \"value\": \"http://orkg.org/orkg/resource/R9586\"}, \"label\": {\"type\": \"typed-literal\", \"datatype\": \"http://www.w3.org/2001/XMLSchema#string\", \"value\": \"corpus-based disambiguation\"}}, {\"resource\": {\"type\": \"uri\", \"value\": \"http://orkg.org/orkg/resource/R44169\"}, \"label\": {\"type\": \"typed-literal\", \"datatype\": \"http://www.w3.org/2001/XMLSchema#string\", \"value\": \"effect of each corpus on pre-training\"}}, {\"resource\": {\"type\": \"uri\", \"value\": \"http://orkg.org/orkg/resource/R38245\"}, \"label\": {\"type\": \"typed-literal\", \"datatype\": \"http://www.w3.org/2001/XMLSchema#string\", \"value\": \"word2vec initialized on NYT training corpus\"}}, {\"resource\": {\"type\": \"uri\", \"value\": \"http://orkg.org/orkg/predicate/P59231\"}, \"label\": {\"type\": \"typed-literal\", \"datatype\": \"http://www.w3.org/2001/XMLSchema#string\", \"value\": \"Computer Science: Computational Linguistics & Corpus Annotation\"}}, {\"resource\": {\"type\": \"uri\", \"value\": \"http://orkg.org/orkg/resource/R25229\"}, \"label\": {\"type\": \"typed-literal\", \"datatype\": \"http://www.w3.org/2001/XMLSchema#string\", \"value\": \"Arabic sentiment analysis: Lexicon-based and corpus-based\"}}, {\"resource\": {\"type\": \"uri\", \"value\": \"http://orkg.org/orkg/resource/R150596\"}, \"label\": {\"type\": \"typed-literal\", \"datatype\": \"http://www.w3.org/2001/XMLSchema#string\", \"value\": \"The CHEMDNER corpus of chemicals and drugs and its annotation principles\"}}, {\"resource\": {\"type\": \"uri\", \"value\": \"http://orkg.org/orkg/resource/R121064\"}, \"label\": {\"type\": \"typed-literal\", \"datatype\": \"http://www.w3.org/2001/XMLSchema#string\", \"value\": \"Annotated corpus for semantic similarity of clinical trial outcomes (expanded corpus)\"}}, {\"resource\": {\"type\": \"uri\", \"value\": \"http://orkg.org/orkg/resource/R121065\"}, \"label\": {\"type\": \"typed-literal\", \"datatype\": \"http://www.w3.org/2001/XMLSchema#string\", \"value\": \"Annotated corpus for semantic similarity of clinical trial outcomes (original corpus)\"}}, {\"resource\": {\"type\": \"uri\", \"value\": \"http://orkg.org/orkg/resource/R172678\"}, \"label\": {\"type\": \"typed-literal\", \"datatype\": \"http://www.w3.org/2001/XMLSchema#string\", \"value\": \"50-dimensional word embeddings released by Collobert et al. (2011), which were trained on Wikipedia and the Reuters RCV-1 corpus\"}}, {\"resource\": {\"type\": \"uri\", \"value\": \"http://orkg.org/orkg/resource/R148039\"}, \"label\": {\"type\": \"typed-literal\", \"datatype\": \"http://www.w3.org/2001/XMLSchema#string\", \"value\": \"GENETAG: a tagged corpus for gene/protein named entity recognition\"}}, {\"resource\": {\"type\": \"uri\", \"value\": \"http://orkg.org/orkg/resource/R163202\"}, \"label\": {\"type\": \"typed-literal\", \"datatype\": \"http://www.w3.org/2001/XMLSchema#string\", \"value\": \"Development of a benchmark corpus to support the automatic extraction of drug-related adverse effects from medical case reports\"}}, {\"resource\": {\"type\": \"uri\", \"value\": \"http://orkg.org/orkg/resource/R69294\"}, \"label\": {\"type\": \"typed-literal\", \"datatype\": \"http://www.w3.org/2001/XMLSchema#string\", \"value\": \"The SOFC-Exp Corpus and Neural Approaches to Information Extraction in the Materials Science Domain\"}}, {\"resource\": {\"type\": \"uri\", \"value\": \"http://orkg.org/orkg/resource/R76423\"}, \"label\": {\"type\": \"typed-literal\", \"datatype\": \"http://www.w3.org/2001/XMLSchema#string\", \"value\": \"Expanding horizons in historical linguistics with the 400-million word Corpus of Historical American English\"}}, {\"resource\": {\"type\": \"uri\", \"value\": \"http://orkg.org/orkg/resource/R110747\"}, \"label\": {\"type\": \"typed-literal\", \"datatype\": \"http://www.w3.org/2001/XMLSchema#string\", \"value\": \"AMI Meeting Corpus\"}}, {\"resource\": {\"type\": \"uri\", \"value\": \"http://orkg.org/orkg/resource/R116696\"}, \"label\": {\"type\": \"typed-literal\", \"datatype\": \"http://www.w3.org/2001/XMLSchema#string\", \"value\": \"ADE Corpus\"}}, {\"resource\": {\"type\": \"uri\", \"value\": \"http://orkg.org/orkg/resource/R127905\"}, \"label\": {\"type\": \"typed-literal\", \"datatype\": \"http://www.w3.org/2001/XMLSchema#string\", \"value\": \"Advising Corpus\"}}, {\"resource\": {\"type\": \"uri\", \"value\": \"http://orkg.org/orkg/resource/R172038\"}, \"label\": {\"type\": \"typed-literal\", \"datatype\": \"http://www.w3.org/2001/XMLSchema#string\", \"value\": \"Abstracts retrieval corpus\"}}, {\"resource\": {\"type\": \"uri\", \"value\": \"http://orkg.org/orkg/resource/R175302\"}, \"label\": {\"type\": \"typed-literal\", \"datatype\": \"http://www.w3.org/2001/XMLSchema#string\", \"value\": \"Analyzed ontology learning research corpus\"}}, {\"resource\": {\"type\": \"uri\", \"value\": \"http://orkg.org/orkg/resource/R142778\"}, \"label\": {\"type\": \"typed-literal\", \"datatype\": \"http://www.w3.org/2001/XMLSchema#string\", \"value\": \"20% of the corpus\"}}, {\"resource\": {\"type\": \"uri\", \"value\": \"http://orkg.org/orkg/resource/R148116\"}, \"label\": {\"type\": \"typed-literal\", \"datatype\": \"http://www.w3.org/2001/XMLSchema#string\", \"value\": \"2010 i2b2/VA challenge corpus\"}}, {\"resource\": {\"type\": \"uri\", \"value\": \"http://orkg.org/orkg/resource/R129484\"}, \"label\": {\"type\": \"typed-literal\", \"datatype\": \"http://www.w3.org/2001/XMLSchema#string\", \"value\": \"Benchmark ADE Corpus\"}}, {\"resource\": {\"type\": \"uri\", \"value\": \"http://orkg.org/orkg/resource/R129499\"}, \"label\": {\"type\": \"typed-literal\", \"datatype\": \"http://www.w3.org/2001/XMLSchema#string\", \"value\": \"Benchmark ADE Corpus\"}}, {\"resource\": {\"type\": \"uri\", \"value\": \"http://orkg.org/orkg/resource/R129503\"}, \"label\": {\"type\": \"typed-literal\", \"datatype\": \"http://www.w3.org/2001/XMLSchema#string\", \"value\": \"Benchmark ADE Corpus\"}}, {\"resource\": {\"type\": \"uri\", \"value\": \"http://orkg.org/orkg/resource/R129515\"}, \"label\": {\"type\": \"typed-literal\", \"datatype\": \"http://www.w3.org/2001/XMLSchema#string\", \"value\": \"Benchmark ADE Corpus\"}}, {\"resource\": {\"type\": \"uri\", \"value\": \"http://orkg.org/orkg/resource/R129524\"}, \"label\": {\"type\": \"typed-literal\", \"datatype\": \"http://www.w3.org/2001/XMLSchema#string\", \"value\": \"Benchmark ADE Corpus\"}}, {\"resource\": {\"type\": \"uri\", \"value\": \"http://orkg.org/orkg/resource/R129535\"}, \"label\": {\"type\": \"typed-literal\", \"datatype\": \"http://www.w3.org/2001/XMLSchema#string\", \"value\": \"Benchmark ADE Corpus\"}}, {\"resource\": {\"type\": \"uri\", \"value\": \"http://orkg.org/orkg/resource/R129546\"}, \"label\": {\"type\": \"typed-literal\", \"datatype\": \"http://www.w3.org/2001/XMLSchema#string\", \"value\": \"Benchmark ADE Corpus\"}}, {\"resource\": {\"type\": \"uri\", \"value\": \"http://orkg.org/orkg/resource/R129636\"}, \"label\": {\"type\": \"typed-literal\", \"datatype\": \"http://www.w3.org/2001/XMLSchema#string\", \"value\": \"Benchmark DDI extraction 2013 corpus\"}}, {\"resource\": {\"type\": \"uri\", \"value\": \"http://orkg.org/orkg/resource/R129647\"}, \"label\": {\"type\": \"typed-literal\", \"datatype\": \"http://www.w3.org/2001/XMLSchema#string\", \"value\": \"Benchmark ShARe/CLEF eHealth corpus\"}}, {\"resource\": {\"type\": \"uri\", \"value\": \"http://orkg.org/orkg/resource/R197062\"}, \"label\": {\"type\": \"typed-literal\", \"datatype\": \"http://www.w3.org/2001/XMLSchema#string\", \"value\": \"Speech Corpus Development for Speaker Independent Speech Recognition for Indian Languages\"}}, {\"resource\": {\"type\": \"uri\", \"value\": \"http://orkg.org/orkg/resource/R212915\"}, \"label\": {\"type\": \"typed-literal\", \"datatype\": \"http://www.w3.org/2001/XMLSchema#string\", \"value\": \"BERT version trained on a large corpus in Spanish (BERTO) embedding\"}}, {\"resource\": {\"type\": \"uri\", \"value\": \"http://orkg.org/orkg/resource/R171844\"}, \"label\": {\"type\": \"typed-literal\", \"datatype\": \"http://www.w3.org/2001/XMLSchema#string\", \"value\": \"BioCreative IV Track IV GO Corpus\"}}, {\"resource\": {\"type\": \"uri\", \"value\": \"http://orkg.org/orkg/resource/R142777\"}, \"label\": {\"type\": \"typed-literal\", \"datatype\": \"http://www.w3.org/2001/XMLSchema#string\", \"value\": \"80% of the corpus\"}}, {\"resource\": {\"type\": \"uri\", \"value\": \"http://orkg.org/orkg/resource/R148131\"}, \"label\": {\"type\": \"typed-literal\", \"datatype\": \"http://www.w3.org/2001/XMLSchema#string\", \"value\": \"Construction of an annotated corpus to support biomedical information extraction\"}}, {\"resource\": {\"type\": \"uri\", \"value\": \"http://orkg.org/orkg/resource/R166315\"}, \"label\": {\"type\": \"typed-literal\", \"datatype\": \"http://www.w3.org/2001/XMLSchema#string\", \"value\": \"Named Entity Recognition in the CoNLL Series and the OntoNotes corpus as a related resource\"}}, {\"resource\": {\"type\": \"uri\", \"value\": \"http://orkg.org/orkg/resource/R214223\"}, \"label\": {\"type\": \"typed-literal\", \"datatype\": \"http://www.w3.org/2001/XMLSchema#string\", \"value\": \"Named Entity Recognition, Concept Normalization and Clinical Coding: Overview of the Cantemist Track for Cancer Text Mining in Spanish, Corpus, Guidelines, Methods and Results.\"}}, {\"resource\": {\"type\": \"uri\", \"value\": \"http://orkg.org/orkg/resource/R171841\"}, \"label\": {\"type\": \"typed-literal\", \"datatype\": \"http://www.w3.org/2001/XMLSchema#string\", \"value\": \"CHEMDNER Corpus\"}}, {\"resource\": {\"type\": \"uri\", \"value\": \"http://orkg.org/orkg/resource/R147659\"}, \"label\": {\"type\": \"typed-literal\", \"datatype\": \"http://www.w3.org/2001/XMLSchema#string\", \"value\": \"AAN Corpus\"}}, {\"resource\": {\"type\": \"uri\", \"value\": \"http://orkg.org/orkg/resource/R157099\"}, \"label\": {\"type\": \"typed-literal\", \"datatype\": \"http://www.w3.org/2001/XMLSchema#string\", \"value\": \"ACL Anthology Reference Corpus\"}}, {\"resource\": {\"type\": \"uri\", \"value\": \"http://orkg.org/orkg/resource/R166450\"}, \"label\": {\"type\": \"typed-literal\", \"datatype\": \"http://www.w3.org/2001/XMLSchema#string\", \"value\": \"ACT-BC-III Corpus\"}}, {\"resource\": {\"type\": \"uri\", \"value\": \"http://orkg.org/orkg/resource/R172706\"}, \"label\": {\"type\": \"typed-literal\", \"datatype\": \"http://www.w3.org/2001/XMLSchema#string\", \"value\": \"ACE 2005 Multilingual Training Corpus\"}}, {\"resource\": {\"type\": \"uri\", \"value\": \"http://orkg.org/orkg/resource/R211117\"}, \"label\": {\"type\": \"typed-literal\", \"datatype\": \"http://www.w3.org/2001/XMLSchema#string\", \"value\": \"ACE-2 corpus\"}}, {\"resource\": {\"type\": \"uri\", \"value\": \"http://orkg.org/orkg/resource/R194713\"}, \"label\": {\"type\": \"typed-literal\", \"datatype\": \"http://www.w3.org/2001/XMLSchema#string\", \"value\": \" Evidence-Based Medicine corpus\"}}, {\"resource\": {\"type\": \"uri\", \"value\": \"http://orkg.org/orkg/resource/R197308\"}, \"label\": {\"type\": \"typed-literal\", \"datatype\": \"http://www.w3.org/2001/XMLSchema#string\", \"value\": \"Bhattacharya, S., Singh, S., Kumar, R., Bansal, A., Bhagat, A., Dawer, Y., Lahiri, B., & Ojha, A. K. (2020). Developing a multilingual annotated corpus of misogyny and aggression.\"}}, {\"resource\": {\"type\": \"uri\", \"value\": \"http://orkg.org/orkg/resource/R213091\"}, \"label\": {\"type\": \"typed-literal\", \"datatype\": \"http://www.w3.org/2001/XMLSchema#string\", \"value\": \"NorNE corpus (Nynorsk) - first publicly available dataset for Norwegian NER\"}}, {\"resource\": {\"type\": \"uri\", \"value\": \"http://orkg.org/orkg/resource/R214020\"}, \"label\": {\"type\": \"typed-literal\", \"datatype\": \"http://www.w3.org/2001/XMLSchema#string\", \"value\": \" ACE 2007 Multilingual Training Corpus LDC2014T18\"}}, {\"resource\": {\"type\": \"uri\", \"value\": \"http://orkg.org/orkg/resource/R215101\"}, \"label\": {\"type\": \"typed-literal\", \"datatype\": \"http://www.w3.org/2001/XMLSchema#string\", \"value\": \" ACE 2005 Multilingual Training Corpus - Chinese\"}}, {\"resource\": {\"type\": \"uri\", \"value\": \"http://orkg.org/orkg/resource/R163209\"}, \"label\": {\"type\": \"typed-literal\", \"datatype\": \"http://www.w3.org/2001/XMLSchema#string\", \"value\": \"Adverse Drug Events (ADE) Corpus\"}}, {\"resource\": {\"type\": \"uri\", \"value\": \"http://orkg.org/orkg/resource/R163670\"}, \"label\": {\"type\": \"typed-literal\", \"datatype\": \"http://www.w3.org/2001/XMLSchema#string\", \"value\": \"Active Gene Annotation Corpus (AGAC)\"}}, {\"resource\": {\"type\": \"uri\", \"value\": \"http://orkg.org/orkg/resource/R164647\"}, \"label\": {\"type\": \"typed-literal\", \"datatype\": \"http://www.w3.org/2001/XMLSchema#string\", \"value\": \"Active Gene Annotation Corpus (AGAC)\"}}, {\"resource\": {\"type\": \"uri\", \"value\": \"http://orkg.org/orkg/resource/R164457\"}, \"label\": {\"type\": \"typed-literal\", \"datatype\": \"http://www.w3.org/2001/XMLSchema#string\", \"value\": \"BB 2011 Corpus\"}}, {\"resource\": {\"type\": \"uri\", \"value\": \"http://orkg.org/orkg/resource/R164553\"}, \"label\": {\"type\": \"typed-literal\", \"datatype\": \"http://www.w3.org/2001/XMLSchema#string\", \"value\": \"BB task 2013 Corpus\"}}, {\"resource\": {\"type\": \"uri\", \"value\": \"http://orkg.org/orkg/resource/R164582\"}, \"label\": {\"type\": \"typed-literal\", \"datatype\": \"http://www.w3.org/2001/XMLSchema#string\", \"value\": \"BB3 Task Corpus \"}}, {\"resource\": {\"type\": \"uri\", \"value\": \"http://orkg.org/orkg/resource/R164669\"}, \"label\": {\"type\": \"typed-literal\", \"datatype\": \"http://www.w3.org/2001/XMLSchema#string\", \"value\": \"BB 2019 Task Corpus\"}}, {\"resource\": {\"type\": \"uri\", \"value\": \"http://orkg.org/orkg/resource/R165699\"}, \"label\": {\"type\": \"typed-literal\", \"datatype\": \"http://www.w3.org/2001/XMLSchema#string\", \"value\": \"BB 2019 Task Corpus\"}}, {\"resource\": {\"type\": \"uri\", \"value\": \"http://orkg.org/orkg/resource/R166279\"}, \"label\": {\"type\": \"typed-literal\", \"datatype\": \"http://www.w3.org/2001/XMLSchema#string\", \"value\": \"BBN Pronoun Coreference and Entity Type Corpus\"}}, {\"resource\": {\"type\": \"uri\", \"value\": \"http://orkg.org/orkg/resource/R172014\"}, \"label\": {\"type\": \"typed-literal\", \"datatype\": \"http://www.w3.org/2001/XMLSchema#string\", \"value\": \"BEL statements corpus\"}}, {\"resource\": {\"type\": \"uri\", \"value\": \"http://orkg.org/orkg/resource/R172015\"}, \"label\": {\"type\": \"typed-literal\", \"datatype\": \"http://www.w3.org/2001/XMLSchema#string\", \"value\": \"BEL statements evidence text corpus\"}}, {\"resource\": {\"type\": \"uri\", \"value\": \"http://orkg.org/orkg/resource/R209701\"}, \"label\": {\"type\": \"typed-literal\", \"datatype\": \"http://www.w3.org/2001/XMLSchema#string\", \"value\": \"DRI Corpus\"}}, {\"resource\": {\"type\": \"uri\", \"value\": \"http://orkg.org/orkg/resource/R114640\"}, \"label\": {\"type\": \"typed-literal\", \"datatype\": \"http://www.w3.org/2001/XMLSchema#string\", \"value\": \"DRI Corpus\"}}, {\"resource\": {\"type\": \"uri\", \"value\": \"http://orkg.org/orkg/resource/R121401\"}, \"label\": {\"type\": \"typed-literal\", \"datatype\": \"http://www.w3.org/2001/XMLSchema#string\", \"value\": \"DDI extraction 2013 corpus\"}}, {\"resource\": {\"type\": \"uri\", \"value\": \"http://orkg.org/orkg/resource/R224852\"}, \"label\": {\"type\": \"typed-literal\", \"datatype\": \"http://www.w3.org/2001/XMLSchema#string\", \"value\": \"GitTables: A Large-Scale Corpus of Relational Tables\"}}, {\"resource\": {\"type\": \"uri\", \"value\": \"http://orkg.org/orkg/resource/R172093\"}, \"label\": {\"type\": \"typed-literal\", \"datatype\": \"http://www.w3.org/2001/XMLSchema#string\", \"value\": \"DrugProt corpus\"}}, {\"resource\": {\"type\": \"uri\", \"value\": \"http://orkg.org/orkg/resource/R163714\"}, \"label\": {\"type\": \"typed-literal\", \"datatype\": \"http://www.w3.org/2001/XMLSchema#string\", \"value\": \"Bacteria Biotope (BB) 2019 Task Corpus\"}}, {\"resource\": {\"type\": \"uri\", \"value\": \"http://orkg.org/orkg/resource/R164390\"}, \"label\": {\"type\": \"typed-literal\", \"datatype\": \"http://www.w3.org/2001/XMLSchema#string\", \"value\": \"BioNLP 2009 Shared Task Corpus\"}}, {\"resource\": {\"type\": \"uri\", \"value\": \"http://orkg.org/orkg/resource/R166336\"}, \"label\": {\"type\": \"typed-literal\", \"datatype\": \"http://www.w3.org/2001/XMLSchema#string\", \"value\": \"BioCreAtIvE 1B corpus\"}}, {\"resource\": {\"type\": \"uri\", \"value\": \"http://orkg.org/orkg/resource/R166427\"}, \"label\": {\"type\": \"typed-literal\", \"datatype\": \"http://www.w3.org/2001/XMLSchema#string\", \"value\": \"BioCreative II gene mention recognition corpus\"}}, {\"resource\": {\"type\": \"uri\", \"value\": \"http://orkg.org/orkg/resource/R166433\"}, \"label\": {\"type\": \"typed-literal\", \"datatype\": \"http://www.w3.org/2001/XMLSchema#string\", \"value\": \"BioCreative II Gene Normalization corpus\"}}, {\"resource\": {\"type\": \"uri\", \"value\": \"http://orkg.org/orkg/resource/R166447\"}, \"label\": {\"type\": \"typed-literal\", \"datatype\": \"http://www.w3.org/2001/XMLSchema#string\", \"value\": \"BioCreative III GN Corpus\"}}, {\"resource\": {\"type\": \"uri\", \"value\": \"http://orkg.org/orkg/resource/R166449\"}, \"label\": {\"type\": \"typed-literal\", \"datatype\": \"http://www.w3.org/2001/XMLSchema#string\", \"value\": \"BioCreative III GN Corpus\"}}, {\"resource\": {\"type\": \"uri\", \"value\": \"http://orkg.org/orkg/resource/R148086\"}, \"label\": {\"type\": \"typed-literal\", \"datatype\": \"http://www.w3.org/2001/XMLSchema#string\", \"value\": \"CLEF corpus\"}}, {\"resource\": {\"type\": \"uri\", \"value\": \"http://orkg.org/orkg/resource/R150599\"}, \"label\": {\"type\": \"typed-literal\", \"datatype\": \"http://www.w3.org/2001/XMLSchema#string\", \"value\": \"CHEMDNER corpus\"}}, {\"resource\": {\"type\": \"uri\", \"value\": \"http://orkg.org/orkg/resource/R163227\"}, \"label\": {\"type\": \"typed-literal\", \"datatype\": \"http://www.w3.org/2001/XMLSchema#string\", \"value\": \"The CLEF corpus: semantic annotation of clinical text\"}}, {\"resource\": {\"type\": \"uri\", \"value\": \"http://orkg.org/orkg/resource/R164522\"}, \"label\": {\"type\": \"typed-literal\", \"datatype\": \"http://www.w3.org/2001/XMLSchema#string\", \"value\": \"CG Shared Task 2013 Corpus \"}}, {\"resource\": {\"type\": \"uri\", \"value\": \"http://orkg.org/orkg/resource/R171956\"}, \"label\": {\"type\": \"typed-literal\", \"datatype\": \"http://www.w3.org/2001/XMLSchema#string\", \"value\": \"CEMP corpus\"}}, {\"resource\": {\"type\": \"uri\", \"value\": \"http://orkg.org/orkg/resource/R76428\"}, \"label\": {\"type\": \"typed-literal\", \"datatype\": \"http://www.w3.org/2001/XMLSchema#string\", \"value\": \"CCOHA: Clean Corpus of Historical American English\"}}, {\"resource\": {\"type\": \"uri\", \"value\": \"http://orkg.org/orkg/resource/R116288\"}, \"label\": {\"type\": \"typed-literal\", \"datatype\": \"http://www.w3.org/2001/XMLSchema#string\", \"value\": \"GRID corpus (mixed-speech)\"}}, {\"resource\": {\"type\": \"uri\", \"value\": \"http://orkg.org/orkg/resource/R171966\"}, \"label\": {\"type\": \"typed-literal\", \"datatype\": \"http://www.w3.org/2001/XMLSchema#string\", \"value\": \"GPRO corpus\"}}, {\"resource\": {\"type\": \"uri\", \"value\": \"http://orkg.org/orkg/resource/R172039\"}, \"label\": {\"type\": \"typed-literal\", \"datatype\": \"http://www.w3.org/2001/XMLSchema#string\", \"value\": \"Full-text retrieval corpus\"}}, {\"resource\": {\"type\": \"uri\", \"value\": \"http://orkg.org/orkg/resource/R142053\"}, \"label\": {\"type\": \"typed-literal\", \"datatype\": \"http://www.w3.org/2001/XMLSchema#string\", \"value\": \"Chinese Semantic Dependency Parsing corpus\"}}, {\"resource\": {\"type\": \"uri\", \"value\": \"http://orkg.org/orkg/resource/R163220\"}, \"label\": {\"type\": \"typed-literal\", \"datatype\": \"http://www.w3.org/2001/XMLSchema#string\", \"value\": \"Chem corpus\"}}, {\"resource\": {\"type\": \"uri\", \"value\": \"http://orkg.org/orkg/resource/R164619\"}, \"label\": {\"type\": \"typed-literal\", \"datatype\": \"http://www.w3.org/2001/XMLSchema#string\", \"value\": \"CRAFT Structural Annotation (SA) Task Corpus\"}}, {\"resource\": {\"type\": \"uri\", \"value\": \"http://orkg.org/orkg/resource/R164620\"}, \"label\": {\"type\": \"typed-literal\", \"datatype\": \"http://www.w3.org/2001/XMLSchema#string\", \"value\": \"CRAFT Coreference Resolution (CR) Task Corpus\"}}, {\"resource\": {\"type\": \"uri\", \"value\": \"http://orkg.org/orkg/resource/R164621\"}, \"label\": {\"type\": \"typed-literal\", \"datatype\": \"http://www.w3.org/2001/XMLSchema#string\", \"value\": \"CRAFT Concept Annotation (CA) Task Corpus\"}}, {\"resource\": {\"type\": \"uri\", \"value\": \"http://orkg.org/orkg/resource/R164625\"}, \"label\": {\"type\": \"typed-literal\", \"datatype\": \"http://www.w3.org/2001/XMLSchema#string\", \"value\": \"CRAFT Shared Task Corpus - Coreference Annotations\"}}, {\"resource\": {\"type\": \"uri\", \"value\": \"http://orkg.org/orkg/resource/R166273\"}, \"label\": {\"type\": \"typed-literal\", \"datatype\": \"http://www.w3.org/2001/XMLSchema#string\", \"value\": \"CoNLL-2003 Corpus\"}}, {\"resource\": {\"type\": \"uri\", \"value\": \"http://orkg.org/orkg/resource/R166274\"}, \"label\": {\"type\": \"typed-literal\", \"datatype\": \"http://www.w3.org/2001/XMLSchema#string\", \"value\": \"CoNLL-2002 Corpus\"}}, {\"resource\": {\"type\": \"uri\", \"value\": \"http://orkg.org/orkg/resource/R171968\"}, \"label\": {\"type\": \"typed-literal\", \"datatype\": \"http://www.w3.org/2001/XMLSchema#string\", \"value\": \"Chemical passage detection corpus\"}}, {\"resource\": {\"type\": \"uri\", \"value\": \"http://orkg.org/orkg/resource/R197299\"}, \"label\": {\"type\": \"typed-literal\", \"datatype\": \"http://www.w3.org/2001/XMLSchema#string\", \"value\": \"Developing a Multilingual Annotated Corpus of Misogyny and Aggression Shiladitya\"}}, {\"resource\": {\"type\": \"uri\", \"value\": \"http://orkg.org/orkg/resource/R214078\"}, \"label\": {\"type\": \"typed-literal\", \"datatype\": \"http://www.w3.org/2001/XMLSchema#string\", \"value\": \"DrugSemantics: A corpus for Named Entity Recognition in Spanish Summaries of Product Characteristics\"}}, {\"resource\": {\"type\": \"uri\", \"value\": \"http://orkg.org/orkg/resource/R116555\"}, \"label\": {\"type\": \"typed-literal\", \"datatype\": \"http://www.w3.org/2001/XMLSchema#string\", \"value\": \"Helsinki Prosody Corpus\"}}, {\"resource\": {\"type\": \"uri\", \"value\": \"http://orkg.org/orkg/resource/R147998\"}, \"label\": {\"type\": \"typed-literal\", \"datatype\": \"http://www.w3.org/2001/XMLSchema#string\", \"value\": \"Colorado Richly Annotated Full-Text (CRAFT) Corpus\"}}, {\"resource\": {\"type\": \"uri\", \"value\": \"http://orkg.org/orkg/resource/R161850\"}, \"label\": {\"type\": \"typed-literal\", \"datatype\": \"http://www.w3.org/2001/XMLSchema#string\", \"value\": \"Colossal Clean Crawled Corpus (C4)\"}}, {\"resource\": {\"type\": \"uri\", \"value\": \"http://orkg.org/orkg/resource/R209108\"}, \"label\": {\"type\": \"typed-literal\", \"datatype\": \"http://www.w3.org/2001/XMLSchema#string\", \"value\": \"A multi-layered annotated corpus of scientific papers\"}}, {\"resource\": {\"type\": \"uri\", \"value\": \"http://orkg.org/orkg/resource/R213088\"}, \"label\": {\"type\": \"typed-literal\", \"datatype\": \"http://www.w3.org/2001/XMLSchema#string\", \"value\": \"NorNE corpus (Bokm\\u00e5l) - first publicly available dataset for Norwegian NER\"}}, {\"resource\": {\"type\": \"uri\", \"value\": \"http://orkg.org/orkg/resource/R116508\"}, \"label\": {\"type\": \"typed-literal\", \"datatype\": \"http://www.w3.org/2001/XMLSchema#string\", \"value\": \"ICSI Meeting Recorder Dialog Act (MRDA) corpus\"}}, {\"resource\": {\"type\": \"uri\", \"value\": \"http://orkg.org/orkg/resource/R147995\"}, \"label\": {\"type\": \"typed-literal\", \"datatype\": \"http://www.w3.org/2001/XMLSchema#string\", \"value\": \"Concept annotation in the CRAFT corpus\"}}, {\"resource\": {\"type\": \"uri\", \"value\": \"http://orkg.org/orkg/resource/R212834\"}, \"label\": {\"type\": \"typed-literal\", \"datatype\": \"http://www.w3.org/2001/XMLSchema#string\", \"value\": \"corpus contained six thousand documents, including 180,983 instances of NEs with the following distribution: companies (45%), locations (45%), persons (7%) and associations (non commercial organisations) (3%).\"}}, {\"resource\": {\"type\": \"uri\", \"value\": \"http://orkg.org/orkg/resource/R213124\"}, \"label\": {\"type\": \"typed-literal\", \"datatype\": \"http://www.w3.org/2001/XMLSchema#string\", \"value\": \"CIIL (Central Institute of Indian Languages) corpus\"}}, {\"resource\": {\"type\": \"uri\", \"value\": \"http://orkg.org/orkg/resource/R163262\"}, \"label\": {\"type\": \"typed-literal\", \"datatype\": \"http://www.w3.org/2001/XMLSchema#string\", \"value\": \"Corpus for Disease Names and Adverse Effects\"}}, {\"resource\": {\"type\": \"uri\", \"value\": \"http://orkg.org/orkg/resource/R166530\"}, \"label\": {\"type\": \"typed-literal\", \"datatype\": \"http://www.w3.org/2001/XMLSchema#string\", \"value\": \"Corpus\"}}, {\"resource\": {\"type\": \"uri\", \"value\": \"http://orkg.org/orkg/resource/R75322\"}, \"label\": {\"type\": \"typed-literal\", \"datatype\": \"http://www.w3.org/2001/XMLSchema#string\", \"value\": \"Corpus Creation\"}}, {\"resource\": {\"type\": \"uri\", \"value\": \"http://orkg.org/orkg/resource/R76426\"}, \"label\": {\"type\": \"typed-literal\", \"datatype\": \"http://www.w3.org/2001/XMLSchema#string\", \"value\": \"Corpus linguistics\"}}, {\"resource\": {\"type\": \"uri\", \"value\": \"http://orkg.org/orkg/resource/R207019\"}, \"label\": {\"type\": \"typed-literal\", \"datatype\": \"http://www.w3.org/2001/XMLSchema#string\", \"value\": \"ART/CoreSC Corpus\"}}, {\"resource\": {\"type\": \"uri\", \"value\": \"http://orkg.org/orkg/resource/R207070\"}, \"label\": {\"type\": \"typed-literal\", \"datatype\": \"http://www.w3.org/2001/XMLSchema#string\", \"value\": \"Abstracts' entities and relations annotated corpus\"}}, {\"resource\": {\"type\": \"uri\", \"value\": \"http://orkg.org/orkg/resource/R211217\"}, \"label\": {\"type\": \"typed-literal\", \"datatype\": \"http://www.w3.org/2001/XMLSchema#string\", \"value\": \"ACE 2004 Multilingual Training Corpus - English\"}}, {\"resource\": {\"type\": \"uri\", \"value\": \"http://orkg.org/orkg/resource/R211228\"}, \"label\": {\"type\": \"typed-literal\", \"datatype\": \"http://www.w3.org/2001/XMLSchema#string\", \"value\": \"ACE 2008 corpus\"}}, {\"resource\": {\"type\": \"uri\", \"value\": \"http://orkg.org/orkg/resource/R211954\"}, \"label\": {\"type\": \"typed-literal\", \"datatype\": \"http://www.w3.org/2001/XMLSchema#string\", \"value\": \"AQMAR NER corpus\"}}, {\"resource\": {\"type\": \"uri\", \"value\": \"http://orkg.org/orkg/resource/R214022\"}, \"label\": {\"type\": \"typed-literal\", \"datatype\": \"http://www.w3.org/2001/XMLSchema#string\", \"value\": \"ACE 2007 Multilingual Training Corpus - Spanish\"}}, {\"resource\": {\"type\": \"uri\", \"value\": \"http://orkg.org/orkg/resource/R215027\"}, \"label\": {\"type\": \"typed-literal\", \"datatype\": \"http://www.w3.org/2001/XMLSchema#string\", \"value\": \"ACE Phase 2 (November 2002) English corpus\"}}, {\"resource\": {\"type\": \"uri\", \"value\": \"http://orkg.org/orkg/resource/R215048\"}, \"label\": {\"type\": \"typed-literal\", \"datatype\": \"http://www.w3.org/2001/XMLSchema#string\", \"value\": \"ACE 2004 Multilingual Training Corpus - Chinese\"}}, {\"resource\": {\"type\": \"uri\", \"value\": \"http://orkg.org/orkg/resource/R215315\"}, \"label\": {\"type\": \"typed-literal\", \"datatype\": \"http://www.w3.org/2001/XMLSchema#string\", \"value\": \"ACE 2004 Multilingual Training Corpus - Arabic\"}}, {\"resource\": {\"type\": \"uri\", \"value\": \"http://orkg.org/orkg/resource/R215423\"}, \"label\": {\"type\": \"typed-literal\", \"datatype\": \"http://www.w3.org/2001/XMLSchema#string\", \"value\": \"ACE 2005 Multilingual Training Corpus - Arabic\"}}, {\"resource\": {\"type\": \"uri\", \"value\": \"http://orkg.org/orkg/resource/R215424\"}, \"label\": {\"type\": \"typed-literal\", \"datatype\": \"http://www.w3.org/2001/XMLSchema#string\", \"value\": \"ACE 2005 Multilingual Training Corpus - English\"}}, {\"resource\": {\"type\": \"uri\", \"value\": \"http://orkg.org/orkg/resource/R215509\"}, \"label\": {\"type\": \"typed-literal\", \"datatype\": \"http://www.w3.org/2001/XMLSchema#string\", \"value\": \"ACE 2007 Multilingual Training Data Corpus\"}}, {\"resource\": {\"type\": \"uri\", \"value\": \"http://orkg.org/orkg/resource/R215511\"}, \"label\": {\"type\": \"typed-literal\", \"datatype\": \"http://www.w3.org/2001/XMLSchema#string\", \"value\": \"ACE 2007 Multilingual Training Corpus - Arabic\"}}, {\"resource\": {\"type\": \"uri\", \"value\": \"http://orkg.org/orkg/resource/R221766\"}, \"label\": {\"type\": \"typed-literal\", \"datatype\": \"http://www.w3.org/2001/XMLSchema#string\", \"value\": \"ACL Anthology Reference corpus\"}}, {\"resource\": {\"type\": \"uri\", \"value\": \"http://orkg.org/orkg/resource/R76431\"}, \"label\": {\"type\": \"typed-literal\", \"datatype\": \"http://www.w3.org/2001/XMLSchema#string\", \"value\": \"DTA corpus\"}}, {\"resource\": {\"type\": \"uri\", \"value\": \"http://orkg.org/orkg/resource/R213547\"}, \"label\": {\"type\": \"typed-literal\", \"datatype\": \"http://www.w3.org/2001/XMLSchema#string\", \"value\": \"Albanian silver-standard NER corpus\"}}, {\"resource\": {\"type\": \"uri\", \"value\": \"http://orkg.org/orkg/resource/R164331\"}, \"label\": {\"type\": \"typed-literal\", \"datatype\": \"http://www.w3.org/2001/XMLSchema#string\", \"value\": \"Dictionary+Corpus enrichment based NER\"}}, {\"resource\": {\"type\": \"uri\", \"value\": \"http://orkg.org/orkg/resource/R207044\"}, \"label\": {\"type\": \"typed-literal\", \"datatype\": \"http://www.w3.org/2001/XMLSchema#string\", \"value\": \"Annotated development corpus\"}}, {\"resource\": {\"type\": \"uri\", \"value\": \"http://orkg.org/orkg/resource/R172005\"}, \"label\": {\"type\": \"typed-literal\", \"datatype\": \"http://www.w3.org/2001/XMLSchema#string\", \"value\": \"Disease named entity recognition (DNER) corpus\"}}, {\"resource\": {\"type\": \"uri\", \"value\": \"http://orkg.org/orkg/resource/R207063\"}, \"label\": {\"type\": \"typed-literal\", \"datatype\": \"http://www.w3.org/2001/XMLSchema#string\", \"value\": \"Automatically labeled Medline abstracts corpus\"}}, {\"resource\": {\"type\": \"uri\", \"value\": \"http://orkg.org/orkg/resource/R215667\"}, \"label\": {\"type\": \"typed-literal\", \"datatype\": \"http://www.w3.org/2001/XMLSchema#string\", \"value\": \"Arnekt-IECSIL Hindi NER corpus\"}}, {\"resource\": {\"type\": \"uri\", \"value\": \"http://orkg.org/orkg/resource/R162717\"}, \"label\": {\"type\": \"typed-literal\", \"datatype\": \"http://www.w3.org/2001/XMLSchema#string\", \"value\": \"ECI Multilingual Text Corpus\"}}, {\"resource\": {\"type\": \"uri\", \"value\": \"http://orkg.org/orkg/resource/R164428\"}, \"label\": {\"type\": \"typed-literal\", \"datatype\": \"http://www.w3.org/2001/XMLSchema#string\", \"value\": \"EPI 2011 Corpus\"}}, {\"resource\": {\"type\": \"uri\", \"value\": \"http://orkg.org/orkg/resource/R172061\"}, \"label\": {\"type\": \"typed-literal\", \"datatype\": \"http://www.w3.org/2001/XMLSchema#string\", \"value\": \"Document triage task corpus\"}}, {\"resource\": {\"type\": \"uri\", \"value\": \"http://orkg.org/orkg/resource/R211528\"}, \"label\": {\"type\": \"typed-literal\", \"datatype\": \"http://www.w3.org/2001/XMLSchema#string\", \"value\": \"BBN Entity type corpus\"}}, {\"resource\": {\"type\": \"uri\", \"value\": \"http://orkg.org/orkg/resource/R215178\"}, \"label\": {\"type\": \"typed-literal\", \"datatype\": \"http://www.w3.org/2001/XMLSchema#string\", \"value\": \"BCCWJ Basic NE corpus\"}}, {\"resource\": {\"type\": \"uri\", \"value\": \"http://orkg.org/orkg/resource/R166278\"}, \"label\": {\"type\": \"typed-literal\", \"datatype\": \"http://www.w3.org/2001/XMLSchema#string\", \"value\": \"Entity types corpus\"}}, {\"resource\": {\"type\": \"uri\", \"value\": \"http://orkg.org/orkg/resource/R116673\"}, \"label\": {\"type\": \"typed-literal\", \"datatype\": \"http://www.w3.org/2001/XMLSchema#string\", \"value\": \"NYT Corpus\"}}, {\"resource\": {\"type\": \"uri\", \"value\": \"http://orkg.org/orkg/resource/R116720\"}, \"label\": {\"type\": \"typed-literal\", \"datatype\": \"http://www.w3.org/2001/XMLSchema#string\", \"value\": \"New York Times Corpus\"}}, {\"resource\": {\"type\": \"uri\", \"value\": \"http://orkg.org/orkg/resource/R172113\"}, \"label\": {\"type\": \"typed-literal\", \"datatype\": \"http://www.w3.org/2001/XMLSchema#string\", \"value\": \"NLM-Chem Corpus\"}}, {\"resource\": {\"type\": \"uri\", \"value\": \"http://orkg.org/orkg/resource/R172660\"}, \"label\": {\"type\": \"typed-literal\", \"datatype\": \"http://www.w3.org/2001/XMLSchema#string\", \"value\": \"News-Commentary corpus\"}}, {\"resource\": {\"type\": \"uri\", \"value\": \"http://orkg.org/orkg/resource/R116801\"}, \"label\": {\"type\": \"typed-literal\", \"datatype\": \"http://www.w3.org/2001/XMLSchema#string\", \"value\": \"Parallel Corpus Mining\"}}, {\"resource\": {\"type\": \"uri\", \"value\": \"http://orkg.org/orkg/resource/R213159\"}, \"label\": {\"type\": \"typed-literal\", \"datatype\": \"http://www.w3.org/2001/XMLSchema#string\", \"value\": \"Bengali Named Entity Tagged Corpus\"}}, {\"resource\": {\"type\": \"uri\", \"value\": \"http://orkg.org/orkg/resource/R172064\"}, \"label\": {\"type\": \"typed-literal\", \"datatype\": \"http://www.w3.org/2001/XMLSchema#string\", \"value\": \"Relation extraction task corpus\"}}, {\"resource\": {\"type\": \"uri\", \"value\": \"http://orkg.org/orkg/resource/R148549\"}, \"label\": {\"type\": \"typed-literal\", \"datatype\": \"http://www.w3.org/2001/XMLSchema#string\", \"value\": \"Medmentions: a large biomedical corpus annotated with UMLS concepts\"}}, {\"resource\": {\"type\": \"uri\", \"value\": \"http://orkg.org/orkg/resource/R194738\"}, \"label\": {\"type\": \"typed-literal\", \"datatype\": \"http://www.w3.org/2001/XMLSchema#string\", \"value\": \"BiocreativeIIGeneMentionCorpus\"}}, {\"resource\": {\"type\": \"uri\", \"value\": \"http://orkg.org/orkg/resource/R125914\"}, \"label\": {\"type\": \"typed-literal\", \"datatype\": \"http://www.w3.org/2001/XMLSchema#string\", \"value\": \"RusAge: Corpus for Age-Based Text Classification\"}}, {\"resource\": {\"type\": \"uri\", \"value\": \"http://orkg.org/orkg/resource/R147548\"}, \"label\": {\"type\": \"typed-literal\", \"datatype\": \"http://www.w3.org/2001/XMLSchema#string\", \"value\": \"GENIA corpus\"}}, {\"resource\": {\"type\": \"uri\", \"value\": \"http://orkg.org/orkg/resource/R164480\"}, \"label\": {\"type\": \"typed-literal\", \"datatype\": \"http://www.w3.org/2001/XMLSchema#string\", \"value\": \"GI 2011 Corpus\"}}, {\"resource\": {\"type\": \"uri\", \"value\": \"http://orkg.org/orkg/resource/R164533\"}, \"label\": {\"type\": \"typed-literal\", \"datatype\": \"http://www.w3.org/2001/XMLSchema#string\", \"value\": \"GRN 2013 Task Corpus\"}}, {\"resource\": {\"type\": \"uri\", \"value\": \"http://orkg.org/orkg/resource/R121284\"}, \"label\": {\"type\": \"typed-literal\", \"datatype\": \"http://www.w3.org/2001/XMLSchema#string\", \"value\": \"SFU Review Corpus\"}}, {\"resource\": {\"type\": \"uri\", \"value\": \"http://orkg.org/orkg/resource/R195237\"}, \"label\": {\"type\": \"typed-literal\", \"datatype\": \"http://www.w3.org/2001/XMLSchema#string\", \"value\": \"Building Chinese Discourse Corpus with Connective-driven Dependency Tree Structure\"}}, {\"resource\": {\"type\": \"uri\", \"value\": \"http://orkg.org/orkg/resource/R214225\"}, \"label\": {\"type\": \"typed-literal\", \"datatype\": \"http://www.w3.org/2001/XMLSchema#string\", \"value\": \"CANTEMIST corpus\"}}, {\"resource\": {\"type\": \"uri\", \"value\": \"http://orkg.org/orkg/resource/R123000\"}, \"label\": {\"type\": \"typed-literal\", \"datatype\": \"http://www.w3.org/2001/XMLSchema#string\", \"value\": \"ShARe/CLEF eHealth corpus\"}}, {\"resource\": {\"type\": \"uri\", \"value\": \"http://orkg.org/orkg/resource/R148135\"}, \"label\": {\"type\": \"typed-literal\", \"datatype\": \"http://www.w3.org/2001/XMLSchema#string\", \"value\": \"Gene Regulation Event Corpus\"}}, {\"resource\": {\"type\": \"uri\", \"value\": \"http://orkg.org/orkg/resource/R164410\"}, \"label\": {\"type\": \"typed-literal\", \"datatype\": \"http://www.w3.org/2001/XMLSchema#string\", \"value\": \"Genia Event Task 2011 Corpus\"}}, {\"resource\": {\"type\": \"uri\", \"value\": \"http://orkg.org/orkg/resource/R164510\"}, \"label\": {\"type\": \"typed-literal\", \"datatype\": \"http://www.w3.org/2001/XMLSchema#string\", \"value\": \"Genia Event Task 2013 Corpus\"}}, {\"resource\": {\"type\": \"uri\", \"value\": \"http://orkg.org/orkg/resource/R166430\"}, \"label\": {\"type\": \"typed-literal\", \"datatype\": \"http://www.w3.org/2001/XMLSchema#string\", \"value\": \"Gene normalization corpus\"}}, {\"resource\": {\"type\": \"uri\", \"value\": \"http://orkg.org/orkg/resource/R166479\"}, \"label\": {\"type\": \"typed-literal\", \"datatype\": \"http://www.w3.org/2001/XMLSchema#string\", \"value\": \"Gold-standard corpus\"}}, {\"resource\": {\"type\": \"uri\", \"value\": \"http://orkg.org/orkg/resource/R116318\"}, \"label\": {\"type\": \"typed-literal\", \"datatype\": \"http://www.w3.org/2001/XMLSchema#string\", \"value\": \"Spoken Corpus\"}}, {\"resource\": {\"type\": \"uri\", \"value\": \"http://orkg.org/orkg/resource/R116500\"}, \"label\": {\"type\": \"typed-literal\", \"datatype\": \"http://www.w3.org/2001/XMLSchema#string\", \"value\": \"Switchboard corpus\"}}, {\"resource\": {\"type\": \"uri\", \"value\": \"http://orkg.org/orkg/resource/R122618\"}, \"label\": {\"type\": \"typed-literal\", \"datatype\": \"http://www.w3.org/2001/XMLSchema#string\", \"value\": \"Switchboard dialogue act corpus\"}}, {\"resource\": {\"type\": \"uri\", \"value\": \"http://orkg.org/orkg/resource/R116285\"}, \"label\": {\"type\": \"typed-literal\", \"datatype\": \"http://www.w3.org/2001/XMLSchema#string\", \"value\": \"TCD-TIMIT corpus (mixed-speech)\"}}, {\"resource\": {\"type\": \"uri\", \"value\": \"http://orkg.org/orkg/resource/R124245\"}, \"label\": {\"type\": \"typed-literal\", \"datatype\": \"http://www.w3.org/2001/XMLSchema#string\", \"value\": \"The ARRAU Corpus\"}}, {\"resource\": {\"type\": \"uri\", \"value\": \"http://orkg.org/orkg/resource/R164438\"}, \"label\": {\"type\": \"typed-literal\", \"datatype\": \"http://www.w3.org/2001/XMLSchema#string\", \"value\": \"ID 2011 Corpus\"}}, {\"resource\": {\"type\": \"uri\", \"value\": \"http://orkg.org/orkg/resource/R212703\"}, \"label\": {\"type\": \"typed-literal\", \"datatype\": \"http://www.w3.org/2001/XMLSchema#string\", \"value\": \"Chinese People's Daily corpus NER\"}}, {\"resource\": {\"type\": \"uri\", \"value\": \"http://orkg.org/orkg/resource/R213597\"}, \"label\": {\"type\": \"typed-literal\", \"datatype\": \"http://www.w3.org/2001/XMLSchema#string\", \"value\": \"Chinese Proper Noun corpus\"}}, {\"resource\": {\"type\": \"uri\", \"value\": \"http://orkg.org/orkg/resource/R213610\"}, \"label\": {\"type\": \"typed-literal\", \"datatype\": \"http://www.w3.org/2001/XMLSchema#string\", \"value\": \"Chinese Name Recognition corpus\"}}, {\"resource\": {\"type\": \"uri\", \"value\": \"http://orkg.org/orkg/resource/R163805\"}, \"label\": {\"type\": \"typed-literal\", \"datatype\": \"http://www.w3.org/2001/XMLSchema#string\", \"value\": \"Integrated corpus\"}}, {\"resource\": {\"type\": \"uri\", \"value\": \"http://orkg.org/orkg/resource/R123639\"}, \"label\": {\"type\": \"typed-literal\", \"datatype\": \"http://www.w3.org/2001/XMLSchema#string\", \"value\": \"TurkCorpus\"}}, {\"resource\": {\"type\": \"uri\", \"value\": \"http://orkg.org/orkg/resource/R150478\"}, \"label\": {\"type\": \"typed-literal\", \"datatype\": \"http://www.w3.org/2001/XMLSchema#string\", \"value\": \"JNLPBA corpus\"}}, {\"resource\": {\"type\": \"uri\", \"value\": \"http://orkg.org/orkg/resource/R164373\"}, \"label\": {\"type\": \"typed-literal\", \"datatype\": \"http://www.w3.org/2001/XMLSchema#string\", \"value\": \"JNLPBA 2004 corpus\"}}, {\"resource\": {\"type\": \"uri\", \"value\": \"http://orkg.org/orkg/resource/R212730\"}, \"label\": {\"type\": \"typed-literal\", \"datatype\": \"http://www.w3.org/2001/XMLSchema#string\", \"value\": \"Chinese news NER corpus\"}}, {\"resource\": {\"type\": \"uri\", \"value\": \"http://orkg.org/orkg/resource/R114821\"}, \"label\": {\"type\": \"typed-literal\", \"datatype\": \"http://www.w3.org/2001/XMLSchema#string\", \"value\": \"Voice Bank corpus (VCTK)\"}}, {\"resource\": {\"type\": \"uri\", \"value\": \"http://orkg.org/orkg/resource/R124762\"}, \"label\": {\"type\": \"typed-literal\", \"datatype\": \"http://www.w3.org/2001/XMLSchema#string\", \"value\": \"Webis-Snippet-20 Corpus\"}}, {\"resource\": {\"type\": \"uri\", \"value\": \"http://orkg.org/orkg/resource/R128681\"}, \"label\": {\"type\": \"typed-literal\", \"datatype\": \"http://www.w3.org/2001/XMLSchema#string\", \"value\": \"Wiki Neutrality Corpus\"}}, {\"resource\": {\"type\": \"uri\", \"value\": \"http://orkg.org/orkg/resource/R164624\"}, \"label\": {\"type\": \"typed-literal\", \"datatype\": \"http://www.w3.org/2001/XMLSchema#string\", \"value\": \"Coreference annotation and resolution in the Colorado Richly Annotated Full Text (CRAFT) corpus of biomedical journal articles\"}}, {\"resource\": {\"type\": \"uri\", \"value\": \"http://orkg.org/orkg/resource/R213983\"}, \"label\": {\"type\": \"typed-literal\", \"datatype\": \"http://www.w3.org/2001/XMLSchema#string\", \"value\": \"CoNLL-2002 Spanish NER shared task corpus\"}}, {\"resource\": {\"type\": \"uri\", \"value\": \"http://orkg.org/orkg/resource/R214292\"}, \"label\": {\"type\": \"typed-literal\", \"datatype\": \"http://www.w3.org/2001/XMLSchema#string\", \"value\": \"CoNLL-2003 German NER corpus\"}}, {\"resource\": {\"type\": \"uri\", \"value\": \"http://orkg.org/orkg/resource/R131658\"}, \"label\": {\"type\": \"typed-literal\", \"datatype\": \"http://www.w3.org/2001/XMLSchema#string\", \"value\": \"A Corpus for Multilingual Document Classification in Eight Languages\"}}, {\"resource\": {\"type\": \"uri\", \"value\": \"http://orkg.org/orkg/resource/R171842\"}, \"label\": {\"type\": \"typed-literal\", \"datatype\": \"http://www.w3.org/2001/XMLSchema#string\", \"value\": \"BC4GO: a full-text corpus for the BioCreative IV GO task\"}}, {\"resource\": {\"type\": \"uri\", \"value\": \"http://orkg.org/orkg/resource/R221082\"}, \"label\": {\"type\": \"typed-literal\", \"datatype\": \"http://www.w3.org/2001/XMLSchema#string\", \"value\": \"Combined Corpus Dataset\"}}, {\"resource\": {\"type\": \"uri\", \"value\": \"http://orkg.org/orkg/resource/R221089\"}, \"label\": {\"type\": \"typed-literal\", \"datatype\": \"http://www.w3.org/2001/XMLSchema#string\", \"value\": \"Combined Corpus Dataset\"}}, {\"resource\": {\"type\": \"uri\", \"value\": \"http://orkg.org/orkg/resource/R76434\"}, \"label\": {\"type\": \"typed-literal\", \"datatype\": \"http://www.w3.org/2001/XMLSchema#string\", \"value\": \"Kubhist corpus\"}}, {\"resource\": {\"type\": \"uri\", \"value\": \"http://orkg.org/orkg/resource/R141843\"}, \"label\": {\"type\": \"typed-literal\", \"datatype\": \"http://www.w3.org/2001/XMLSchema#string\", \"value\": \"LiveMemories corpus (Rodr\\u00b4\\u0131guez et al., 2010)\"}}, {\"resource\": {\"type\": \"uri\", \"value\": \"http://orkg.org/orkg/resource/R150548\"}, \"label\": {\"type\": \"typed-literal\", \"datatype\": \"http://www.w3.org/2001/XMLSchema#string\", \"value\": \"Linnaeus corpus\"}}, {\"resource\": {\"type\": \"uri\", \"value\": \"http://orkg.org/orkg/resource/R76433\"}, \"label\": {\"type\": \"typed-literal\", \"datatype\": \"http://www.w3.org/2001/XMLSchema#string\", \"value\": \"LatinISE corpus\"}}, {\"resource\": {\"type\": \"uri\", \"value\": \"http://orkg.org/orkg/resource/R196480\"}, \"label\": {\"type\": \"typed-literal\", \"datatype\": \"http://www.w3.org/2001/XMLSchema#string\", \"value\": \"Corpus of Contemporary Indian English\"}}, {\"resource\": {\"type\": \"uri\", \"value\": \"http://orkg.org/orkg/resource/R211072\"}, \"label\": {\"type\": \"typed-literal\", \"datatype\": \"http://www.w3.org/2001/XMLSchema#string\", \"value\": \"MUC-6 NE Corpus\"}}, {\"resource\": {\"type\": \"uri\", \"value\": \"http://orkg.org/orkg/resource/R211073\"}, \"label\": {\"type\": \"typed-literal\", \"datatype\": \"http://www.w3.org/2001/XMLSchema#string\", \"value\": \"MUC-7 NE Corpus\"}}, {\"resource\": {\"type\": \"uri\", \"value\": \"http://orkg.org/orkg/resource/R236528\"}, \"label\": {\"type\": \"typed-literal\", \"datatype\": \"http://www.w3.org/2001/XMLSchema#string\", \"value\": \"Corpus Callosum\"}}, {\"resource\": {\"type\": \"uri\", \"value\": \"http://orkg.org/orkg/resource/R236540\"}, \"label\": {\"type\": \"typed-literal\", \"datatype\": \"http://www.w3.org/2001/XMLSchema#string\", \"value\": \"Corpus Callosum location of Subgroup A Nepoviruses\"}}, {\"resource\": {\"type\": \"uri\", \"value\": \"http://orkg.org/orkg/resource/R162789\"}, \"label\": {\"type\": \"typed-literal\", \"datatype\": \"http://www.w3.org/2001/XMLSchema#string\", \"value\": \"MUC-6 NE Corpus\"}}, {\"resource\": {\"type\": \"uri\", \"value\": \"http://orkg.org/orkg/resource/R162794\"}, \"label\": {\"type\": \"typed-literal\", \"datatype\": \"http://www.w3.org/2001/XMLSchema#string\", \"value\": \"MUC-7 NE Corpus\"}}, {\"resource\": {\"type\": \"uri\", \"value\": \"http://orkg.org/orkg/resource/R212846\"}, \"label\": {\"type\": \"typed-literal\", \"datatype\": \"http://www.w3.org/2001/XMLSchema#string\", \"value\": \"DaNE corpus\"}}, {\"resource\": {\"type\": \"uri\", \"value\": \"http://orkg.org/orkg/resource/R120619\"}, \"label\": {\"type\": \"typed-literal\", \"datatype\": \"http://www.w3.org/2001/XMLSchema#string\", \"value\": \"kNN-BERT + POS (training corpus: SemCor)\"}}, {\"resource\": {\"type\": \"uri\", \"value\": \"http://orkg.org/orkg/resource/R120647\"}, \"label\": {\"type\": \"typed-literal\", \"datatype\": \"http://www.w3.org/2001/XMLSchema#string\", \"value\": \"kNN-BERT + POS (training corpus: WNGT)\"}}, {\"resource\": {\"type\": \"uri\", \"value\": \"http://orkg.org/orkg/resource/R212847\"}, \"label\": {\"type\": \"typed-literal\", \"datatype\": \"http://www.w3.org/2001/XMLSchema#string\", \"value\": \"Danish PAROLE corpus\"}}, {\"resource\": {\"type\": \"uri\", \"value\": \"http://orkg.org/orkg/resource/R163868\"}, \"label\": {\"type\": \"typed-literal\", \"datatype\": \"http://www.w3.org/2001/XMLSchema#string\", \"value\": \"Modified Penn Treebank corpus scheme\"}}, {\"resource\": {\"type\": \"uri\", \"value\": \"http://orkg.org/orkg/resource/R172126\"}, \"label\": {\"type\": \"typed-literal\", \"datatype\": \"http://www.w3.org/2001/XMLSchema#string\", \"value\": \"NLM-Chem Normalization Corpus\"}}, {\"resource\": {\"type\": \"uri\", \"value\": \"http://orkg.org/orkg/resource/R172129\"}, \"label\": {\"type\": \"typed-literal\", \"datatype\": \"http://www.w3.org/2001/XMLSchema#string\", \"value\": \"NLMChem corpus\"}}, {\"resource\": {\"type\": \"uri\", \"value\": \"http://orkg.org/orkg/resource/R76439\"}, \"label\": {\"type\": \"typed-literal\", \"datatype\": \"http://www.w3.org/2001/XMLSchema#string\", \"value\": \"New Methods in Historical Corpus Linguistics\"}}, {\"resource\": {\"type\": \"uri\", \"value\": \"http://orkg.org/orkg/resource/R194892\"}, \"label\": {\"type\": \"typed-literal\", \"datatype\": \"http://www.w3.org/2001/XMLSchema#string\", \"value\": \"Frequency of basic English grammatical structures: A corpus analysis\"}}, {\"resource\": {\"type\": \"uri\", \"value\": \"http://orkg.org/orkg/resource/R197057\"}, \"label\": {\"type\": \"typed-literal\", \"datatype\": \"http://www.w3.org/2001/XMLSchema#string\", \"value\": \"Development of a Speech Corpus for Speaker Verification Research in Multilingual Environment\"}}, {\"resource\": {\"type\": \"uri\", \"value\": \"http://orkg.org/orkg/resource/R212838\"}, \"label\": {\"type\": \"typed-literal\", \"datatype\": \"http://www.w3.org/2001/XMLSchema#string\", \"value\": \"Early Greek NER corpus\"}}, {\"resource\": {\"type\": \"uri\", \"value\": \"http://orkg.org/orkg/resource/R213491\"}, \"label\": {\"type\": \"typed-literal\", \"datatype\": \"http://www.w3.org/2001/XMLSchema#string\", \"value\": \"Dutch OCR'ed historic news NER corpus\"}}, {\"resource\": {\"type\": \"uri\", \"value\": \"http://orkg.org/orkg/resource/R213551\"}, \"label\": {\"type\": \"typed-literal\", \"datatype\": \"http://www.w3.org/2001/XMLSchema#string\", \"value\": \"Early Albanian NER corpus\"}}, {\"resource\": {\"type\": \"uri\", \"value\": \"http://orkg.org/orkg/resource/R213591\"}, \"label\": {\"type\": \"typed-literal\", \"datatype\": \"http://www.w3.org/2001/XMLSchema#string\", \"value\": \"Early Albanian historical-political NER corpus\"}}, {\"resource\": {\"type\": \"uri\", \"value\": \"http://orkg.org/orkg/resource/R214079\"}, \"label\": {\"type\": \"typed-literal\", \"datatype\": \"http://www.w3.org/2001/XMLSchema#string\", \"value\": \"DrugSemantics corpus\"}}, {\"resource\": {\"type\": \"uri\", \"value\": \"http://orkg.org/orkg/resource/R214315\"}, \"label\": {\"type\": \"typed-literal\", \"datatype\": \"http://www.w3.org/2001/XMLSchema#string\", \"value\": \"EUROPARL test corpus\"}}, {\"resource\": {\"type\": \"uri\", \"value\": \"http://orkg.org/orkg/resource/R203383\"}, \"label\": {\"type\": \"typed-literal\", \"datatype\": \"http://www.w3.org/2001/XMLSchema#string\", \"value\": \"TDMSci: A Specialized Corpus for Scientific Literature Entity Tagging of Tasks Datasets and Metrics\"}}, {\"resource\": {\"type\": \"uri\", \"value\": \"http://orkg.org/orkg/resource/R212905\"}, \"label\": {\"type\": \"typed-literal\", \"datatype\": \"http://www.w3.org/2001/XMLSchema#string\", \"value\": \"English Corpus\"}}, {\"resource\": {\"type\": \"uri\", \"value\": \"http://orkg.org/orkg/resource/R212907\"}, \"label\": {\"type\": \"typed-literal\", \"datatype\": \"http://www.w3.org/2001/XMLSchema#string\", \"value\": \"English Corpus + LSTM\"}}, {\"resource\": {\"type\": \"uri\", \"value\": \"http://orkg.org/orkg/resource/R212909\"}, \"label\": {\"type\": \"typed-literal\", \"datatype\": \"http://www.w3.org/2001/XMLSchema#string\", \"value\": \"English Corpus + CNN\"}}, {\"resource\": {\"type\": \"uri\", \"value\": \"http://orkg.org/orkg/resource/R131873\"}, \"label\": {\"type\": \"typed-literal\", \"datatype\": \"http://www.w3.org/2001/XMLSchema#string\", \"value\": \"ScisummNet: A Large Annotated Corpus and Content-Impact Models for Scientific Paper Summarization with Citation Networks\"}}, {\"resource\": {\"type\": \"uri\", \"value\": \"http://orkg.org/orkg/resource/R172669\"}, \"label\": {\"type\": \"typed-literal\", \"datatype\": \"http://www.w3.org/2001/XMLSchema#string\", \"value\": \"CoNLL 2003 corpus for named entity recognition (NER)\"}}, {\"resource\": {\"type\": \"uri\", \"value\": \"http://orkg.org/orkg/resource/R162457\"}, \"label\": {\"type\": \"typed-literal\", \"datatype\": \"http://www.w3.org/2001/XMLSchema#string\", \"value\": \"Overview of the CHEMDNER patents task\"}}, {\"resource\": {\"type\": \"uri\", \"value\": \"http://orkg.org/orkg/resource/R164525\"}, \"label\": {\"type\": \"typed-literal\", \"datatype\": \"http://www.w3.org/2001/XMLSchema#string\", \"value\": \"PC Shared Task 2013 Corpus\"}}, {\"resource\": {\"type\": \"uri\", \"value\": \"http://orkg.org/orkg/resource/R117198\"}, \"label\": {\"type\": \"typed-literal\", \"datatype\": \"http://www.w3.org/2001/XMLSchema#string\", \"value\": \" ACCURAT balanced test corpus for under resourced languages Russian-Estonian\"}}, {\"resource\": {\"type\": \"uri\", \"value\": \"http://orkg.org/orkg/resource/R129063\"}, \"label\": {\"type\": \"typed-literal\", \"datatype\": \"http://www.w3.org/2001/XMLSchema#string\", \"value\": \"Transition-Based Parser Trained on Cross-Lingual Corpus\"}}, {\"resource\": {\"type\": \"uri\", \"value\": \"http://orkg.org/orkg/resource/R164640\"}, \"label\": {\"type\": \"typed-literal\", \"datatype\": \"http://www.w3.org/2001/XMLSchema#string\", \"value\": \"PharmaCoNER Task Corpus\"}}, {\"resource\": {\"type\": \"uri\", \"value\": \"http://orkg.org/orkg/resource/R171845\"}, \"label\": {\"type\": \"typed-literal\", \"datatype\": \"http://www.w3.org/2001/XMLSchema#string\", \"value\": \"BioCreative IV Track IV Evidence Sentence Selection Corpus\"}}, {\"resource\": {\"type\": \"uri\", \"value\": \"http://orkg.org/orkg/resource/R213538\"}, \"label\": {\"type\": \"typed-literal\", \"datatype\": \"http://www.w3.org/2001/XMLSchema#string\", \"value\": \"FactRuEval 2016 NER corpus\"}}, {\"resource\": {\"type\": \"uri\", \"value\": \"http://orkg.org/orkg/resource/R215187\"}, \"label\": {\"type\": \"typed-literal\", \"datatype\": \"http://www.w3.org/2001/XMLSchema#string\", \"value\": \"FG-NER corpus\"}}, {\"resource\": {\"type\": \"uri\", \"value\": \"http://orkg.org/orkg/resource/R262089\"}, \"label\": {\"type\": \"typed-literal\", \"datatype\": \"http://www.w3.org/2001/XMLSchema#string\", \"value\": \"Fake Video Corpus Dataset (FVC)\"}}, {\"resource\": {\"type\": \"uri\", \"value\": \"http://orkg.org/orkg/resource/R262092\"}, \"label\": {\"type\": \"typed-literal\", \"datatype\": \"http://www.w3.org/2001/XMLSchema#string\", \"value\": \"Fake Video Corpus Dataset (FVC)\"}}, {\"resource\": {\"type\": \"uri\", \"value\": \"http://orkg.org/orkg/resource/R166340\"}, \"label\": {\"type\": \"typed-literal\", \"datatype\": \"http://www.w3.org/2001/XMLSchema#string\", \"value\": \"BioCreAtIvE task 1B, the \\\"Normalized Gene List\\\" task corpus\"}}, {\"resource\": {\"type\": \"uri\", \"value\": \"http://orkg.org/orkg/resource/R280832\"}, \"label\": {\"type\": \"typed-literal\", \"datatype\": \"http://www.w3.org/2001/XMLSchema#string\", \"value\": \"Corpus-based and Knowledge-based Measures of Text Semantic Similarity\"}}, {\"resource\": {\"type\": \"uri\", \"value\": \"http://orkg.org/orkg/resource/R150479\"}, \"label\": {\"type\": \"typed-literal\", \"datatype\": \"http://www.w3.org/2001/XMLSchema#string\", \"value\": \"Revised JNLPBA corpus\"}}, {\"resource\": {\"type\": \"uri\", \"value\": \"http://orkg.org/orkg/resource/R162716\"}, \"label\": {\"type\": \"typed-literal\", \"datatype\": \"http://www.w3.org/2001/XMLSchema#string\", \"value\": \"Reuters Corpus\"}}, {\"resource\": {\"type\": \"uri\", \"value\": \"http://orkg.org/orkg/resource/R164481\"}, \"label\": {\"type\": \"typed-literal\", \"datatype\": \"http://www.w3.org/2001/XMLSchema#string\", \"value\": \"Rename 2011 Corpus\"}}, {\"resource\": {\"type\": \"uri\", \"value\": \"http://orkg.org/orkg/resource/R197113\"}, \"label\": {\"type\": \"typed-literal\", \"datatype\": \"http://www.w3.org/2001/XMLSchema#string\", \"value\": \"Freiburg-Brown corpus of American English (Frown)\"}}, {\"resource\": {\"type\": \"uri\", \"value\": \"http://orkg.org/orkg/resource/R197349\"}, \"label\": {\"type\": \"typed-literal\", \"datatype\": \"http://www.w3.org/2001/XMLSchema#string\", \"value\": \"Speech Corpus for Speaker Independent Speech Recognition for Indian Airports\"}}, {\"resource\": {\"type\": \"uri\", \"value\": \"http://orkg.org/orkg/resource/R212830\"}, \"label\": {\"type\": \"typed-literal\", \"datatype\": \"http://www.w3.org/2001/XMLSchema#string\", \"value\": \"French NER corpus\"}}, {\"resource\": {\"type\": \"uri\", \"value\": \"http://orkg.org/orkg/resource/R213489\"}, \"label\": {\"type\": \"typed-literal\", \"datatype\": \"http://www.w3.org/2001/XMLSchema#string\", \"value\": \"French OCR'ed historic news NER corpus\"}}, {\"resource\": {\"type\": \"uri\", \"value\": \"http://orkg.org/orkg/resource/wikidata:Q106831984\"}, \"label\": {\"type\": \"typed-literal\", \"datatype\": \"http://www.w3.org/2001/XMLSchema#string\", \"value\": \"S2ORC: The Semantic Scholar Open Research Corpus\"}}, {\"resource\": {\"type\": \"uri\", \"value\": \"http://orkg.org/orkg/resource/R141798\"}, \"label\": {\"type\": \"typed-literal\", \"datatype\": \"http://www.w3.org/2001/XMLSchema#string\", \"value\": \"SemEval-2007 WePS Evaluation Corpus\"}}, {\"resource\": {\"type\": \"uri\", \"value\": \"http://orkg.org/orkg/resource/R142098\"}, \"label\": {\"type\": \"typed-literal\", \"datatype\": \"http://www.w3.org/2001/XMLSchema#string\", \"value\": \"SRA corpus\"}}, {\"resource\": {\"type\": \"uri\", \"value\": \"http://orkg.org/orkg/resource/R151319\"}, \"label\": {\"type\": \"typed-literal\", \"datatype\": \"http://www.w3.org/2001/XMLSchema#string\", \"value\": \"S2ORC: The Semantic Scholar Open Research Corpus\"}}, {\"resource\": {\"type\": \"uri\", \"value\": \"http://orkg.org/orkg/resource/R164587\"}, \"label\": {\"type\": \"typed-literal\", \"datatype\": \"http://www.w3.org/2001/XMLSchema#string\", \"value\": \"SeeDev 2016 Task Corpus\"}}, {\"resource\": {\"type\": \"uri\", \"value\": \"http://orkg.org/orkg/resource/R211928\"}, \"label\": {\"type\": \"typed-literal\", \"datatype\": \"http://www.w3.org/2001/XMLSchema#string\", \"value\": \"HAARETZ corpus\"}}, {\"resource\": {\"type\": \"uri\", \"value\": \"http://orkg.org/orkg/resource/R212829\"}, \"label\": {\"type\": \"typed-literal\", \"datatype\": \"http://www.w3.org/2001/XMLSchema#string\", \"value\": \"Greek NER corpus\"}}, {\"resource\": {\"type\": \"uri\", \"value\": \"http://orkg.org/orkg/resource/R213125\"}, \"label\": {\"type\": \"typed-literal\", \"datatype\": \"http://www.w3.org/2001/XMLSchema#string\", \"value\": \"Gyan Nidhi corpus\"}}, {\"resource\": {\"type\": \"uri\", \"value\": \"http://orkg.org/orkg/resource/R213490\"}, \"label\": {\"type\": \"typed-literal\", \"datatype\": \"http://www.w3.org/2001/XMLSchema#string\", \"value\": \"German OCR'ed historic news NER corpus\"}}, {\"resource\": {\"type\": \"uri\", \"value\": \"http://orkg.org/orkg/resource/R213639\"}, \"label\": {\"type\": \"typed-literal\", \"datatype\": \"http://www.w3.org/2001/XMLSchema#string\", \"value\": \"GermEval 2014 NER Shared Task corpus\"}}, {\"resource\": {\"type\": \"uri\", \"value\": \"http://orkg.org/orkg/resource/R214328\"}, \"label\": {\"type\": \"typed-literal\", \"datatype\": \"http://www.w3.org/2001/XMLSchema#string\", \"value\": \"German Twitter, news and traffic report NER corpus\"}}, {\"resource\": {\"type\": \"uri\", \"value\": \"http://orkg.org/orkg/resource/R214382\"}, \"label\": {\"type\": \"typed-literal\", \"datatype\": \"http://www.w3.org/2001/XMLSchema#string\", \"value\": \"German Legal Entity Recognition corpus\"}}, {\"resource\": {\"type\": \"uri\", \"value\": \"http://orkg.org/orkg/resource/R165695\"}, \"label\": {\"type\": \"typed-literal\", \"datatype\": \"http://www.w3.org/2001/XMLSchema#string\", \"value\": \"Spanish Clinical Case Corpus (SPACCC)\"}}, {\"resource\": {\"type\": \"uri\", \"value\": \"http://orkg.org/orkg/resource/R166456\"}, \"label\": {\"type\": \"typed-literal\", \"datatype\": \"http://www.w3.org/2001/XMLSchema#string\", \"value\": \"SoMeSci Corpus\"}}, {\"resource\": {\"type\": \"uri\", \"value\": \"http://orkg.org/orkg/resource/R166494\"}, \"label\": {\"type\": \"typed-literal\", \"datatype\": \"http://www.w3.org/2001/XMLSchema#string\", \"value\": \"Silver-standard corpus\"}}, {\"resource\": {\"type\": \"uri\", \"value\": \"http://orkg.org/orkg/resource/R172056\"}, \"label\": {\"type\": \"typed-literal\", \"datatype\": \"http://www.w3.org/2001/XMLSchema#string\", \"value\": \"Snippets selection corpus\"}}, {\"resource\": {\"type\": \"uri\", \"value\": \"http://orkg.org/orkg/resource/R211937\"}, \"label\": {\"type\": \"typed-literal\", \"datatype\": \"http://www.w3.org/2001/XMLSchema#string\", \"value\": \"Hebrew NER corpus\"}}, {\"resource\": {\"type\": \"uri\", \"value\": \"http://orkg.org/orkg/resource/R213141\"}, \"label\": {\"type\": \"typed-literal\", \"datatype\": \"http://www.w3.org/2001/XMLSchema#string\", \"value\": \"Hindi Health Domain (HHD) corpus\"}}, {\"resource\": {\"type\": \"uri\", \"value\": \"http://orkg.org/orkg/resource/R213188\"}, \"label\": {\"type\": \"typed-literal\", \"datatype\": \"http://www.w3.org/2001/XMLSchema#string\", \"value\": \"HiNER corpus\"}}, {\"resource\": {\"type\": \"uri\", \"value\": \"http://orkg.org/orkg/resource/R142097\"}, \"label\": {\"type\": \"typed-literal\", \"datatype\": \"http://www.w3.org/2001/XMLSchema#string\", \"value\": \"Student Response Analysis corpus\"}}, {\"resource\": {\"type\": \"uri\", \"value\": \"http://orkg.org/orkg/resource/R149721\"}, \"label\": {\"type\": \"typed-literal\", \"datatype\": \"http://www.w3.org/2001/XMLSchema#string\", \"value\": \"TDM Tagged Corpus\"}}, {\"resource\": {\"type\": \"uri\", \"value\": \"http://orkg.org/orkg/resource/R149845\"}, \"label\": {\"type\": \"typed-literal\", \"datatype\": \"http://www.w3.org/2001/XMLSchema#string\", \"value\": \"TDM Tagged Corpus\"}}, {\"resource\": {\"type\": \"uri\", \"value\": \"http://orkg.org/orkg/resource/R163869\"}, \"label\": {\"type\": \"typed-literal\", \"datatype\": \"http://www.w3.org/2001/XMLSchema#string\", \"value\": \"Syntax Annotation for the GENIA Corpus\"}}, {\"resource\": {\"type\": \"uri\", \"value\": \"http://orkg.org/orkg/resource/R211816\"}, \"label\": {\"type\": \"typed-literal\", \"datatype\": \"http://www.w3.org/2001/XMLSchema#string\", \"value\": \"IREX NER Corpus\"}}, {\"resource\": {\"type\": \"uri\", \"value\": \"http://orkg.org/orkg/resource/R212756\"}, \"label\": {\"type\": \"typed-literal\", \"datatype\": \"http://www.w3.org/2001/XMLSchema#string\", \"value\": \"IREX NER corpus\"}}, {\"resource\": {\"type\": \"uri\", \"value\": \"http://orkg.org/orkg/resource/R162464\"}, \"label\": {\"type\": \"typed-literal\", \"datatype\": \"http://www.w3.org/2001/XMLSchema#string\", \"value\": \"Task 1 CHEMDNER Task\"}}, {\"resource\": {\"type\": \"uri\", \"value\": \"http://orkg.org/orkg/resource/R196481\"}, \"label\": {\"type\": \"typed-literal\", \"datatype\": \"http://www.w3.org/2001/XMLSchema#string\", \"value\": \"International Corpus of English - India\"}}, {\"resource\": {\"type\": \"uri\", \"value\": \"http://orkg.org/orkg/resource/R196836\"}, \"label\": {\"type\": \"typed-literal\", \"datatype\": \"http://www.w3.org/2001/XMLSchema#string\", \"value\": \"International Corpus of English - India\"}}, {\"resource\": {\"type\": \"uri\", \"value\": \"http://orkg.org/orkg/resource/R196959\"}, \"label\": {\"type\": \"typed-literal\", \"datatype\": \"http://www.w3.org/2001/XMLSchema#string\", \"value\": \"International Corpus of English\"}}, {\"resource\": {\"type\": \"uri\", \"value\": \"http://orkg.org/orkg/resource/R197096\"}, \"label\": {\"type\": \"typed-literal\", \"datatype\": \"http://www.w3.org/2001/XMLSchema#string\", \"value\": \"International Corpusof English - Great Britain\"}}, {\"resource\": {\"type\": \"uri\", \"value\": \"http://orkg.org/orkg/resource/R197102\"}, \"label\": {\"type\": \"typed-literal\", \"datatype\": \"http://www.w3.org/2001/XMLSchema#string\", \"value\": \"International Corpus of English - Hongkong\"}}, {\"resource\": {\"type\": \"uri\", \"value\": \"http://orkg.org/orkg/resource/R197104\"}, \"label\": {\"type\": \"typed-literal\", \"datatype\": \"http://www.w3.org/2001/XMLSchema#string\", \"value\": \"International Corpus of English - Philippines\"}}, {\"resource\": {\"type\": \"uri\", \"value\": \"http://orkg.org/orkg/resource/R214166\"}, \"label\": {\"type\": \"typed-literal\", \"datatype\": \"http://www.w3.org/2001/XMLSchema#string\", \"value\": \"Ixa-MedGS corpus\"}}, {\"resource\": {\"type\": \"uri\", \"value\": \"http://orkg.org/orkg/resource/R141464\"}, \"label\": {\"type\": \"typed-literal\", \"datatype\": \"http://www.w3.org/2001/XMLSchema#string\", \"value\": \"The Dutch WSD corpus\"}}, {\"resource\": {\"type\": \"uri\", \"value\": \"http://orkg.org/orkg/resource/R141840\"}, \"label\": {\"type\": \"typed-literal\", \"datatype\": \"http://www.w3.org/2001/XMLSchema#string\", \"value\": \"The KNACK-2002 corpus (Hoste and De Pauw, 2006)\"}}, {\"resource\": {\"type\": \"uri\", \"value\": \"http://orkg.org/orkg/resource/R141842\"}, \"label\": {\"type\": \"typed-literal\", \"datatype\": \"http://www.w3.org/2001/XMLSchema#string\", \"value\": \"The T\\u00a8uBa-D/Z corpus (Hinrichs et al., 2005)\"}}, {\"resource\": {\"type\": \"uri\", \"value\": \"http://orkg.org/orkg/resource/R162406\"}, \"label\": {\"type\": \"typed-literal\", \"datatype\": \"http://www.w3.org/2001/XMLSchema#string\", \"value\": \"The BC4GO corpus\"}}, {\"resource\": {\"type\": \"uri\", \"value\": \"http://orkg.org/orkg/resource/R162473\"}, \"label\": {\"type\": \"typed-literal\", \"datatype\": \"http://www.w3.org/2001/XMLSchema#string\", \"value\": \"The CHEMDNER patents corpus\"}}, {\"resource\": {\"type\": \"uri\", \"value\": \"http://orkg.org/orkg/resource/R164231\"}, \"label\": {\"type\": \"typed-literal\", \"datatype\": \"http://www.w3.org/2001/XMLSchema#string\", \"value\": \"The GENIA corpus\"}}, {\"resource\": {\"type\": \"uri\", \"value\": \"http://orkg.org/orkg/resource/R197106\"}, \"label\": {\"type\": \"typed-literal\", \"datatype\": \"http://www.w3.org/2001/XMLSchema#string\", \"value\": \"Kolhapur Corpus of Indian English\"}}, {\"resource\": {\"type\": \"uri\", \"value\": \"http://orkg.org/orkg/resource/R141786\"}, \"label\": {\"type\": \"typed-literal\", \"datatype\": \"http://www.w3.org/2001/XMLSchema#string\", \"value\": \"WSD corpus in Turkish\"}}, {\"resource\": {\"type\": \"uri\", \"value\": \"http://orkg.org/orkg/resource/R148073\"}, \"label\": {\"type\": \"typed-literal\", \"datatype\": \"http://www.w3.org/2001/XMLSchema#string\", \"value\": \"BioInfer: a corpus for information extraction in the biomedical domain\"}}, {\"resource\": {\"type\": \"uri\", \"value\": \"http://orkg.org/orkg/resource/R164218\"}, \"label\": {\"type\": \"typed-literal\", \"datatype\": \"http://www.w3.org/2001/XMLSchema#string\", \"value\": \"The GENIA corpus: an annotated research abstract corpus in molecular biology domain\"}}, {\"resource\": {\"type\": \"uri\", \"value\": \"http://orkg.org/orkg/resource/R166303\"}, \"label\": {\"type\": \"typed-literal\", \"datatype\": \"http://www.w3.org/2001/XMLSchema#string\", \"value\": \"Ontonotes: A large training corpus for enhanced processing\"}}, {\"resource\": {\"type\": \"uri\", \"value\": \"http://orkg.org/orkg/resource/R76438\"}, \"label\": {\"type\": \"typed-literal\", \"datatype\": \"http://www.w3.org/2001/XMLSchema#string\", \"value\": \"Tools for historical corpus research, and a corpus of Latin\"}}, {\"resource\": {\"type\": \"uri\", \"value\": \"http://orkg.org/orkg/resource/R202089\"}, \"label\": {\"type\": \"typed-literal\", \"datatype\": \"http://www.w3.org/2001/XMLSchema#string\", \"value\": \"LIFELOG CORPUS CONSTRUCTION\"}}, {\"resource\": {\"type\": \"uri\", \"value\": \"http://orkg.org/orkg/resource/R141801\"}, \"label\": {\"type\": \"typed-literal\", \"datatype\": \"http://www.w3.org/2001/XMLSchema#string\", \"value\": \"Web03 corpus\"}}, {\"resource\": {\"type\": \"uri\", \"value\": \"http://orkg.org/orkg/resource/R163077\"}, \"label\": {\"type\": \"typed-literal\", \"datatype\": \"http://www.w3.org/2001/XMLSchema#string\", \"value\": \"Wikipedia-derived corpus\"}}, {\"resource\": {\"type\": \"uri\", \"value\": \"http://orkg.org/orkg/resource/R166187\"}, \"label\": {\"type\": \"typed-literal\", \"datatype\": \"http://www.w3.org/2001/XMLSchema#string\", \"value\": \"Wikipedia Polygot-NER Corpus\"}}, {\"resource\": {\"type\": \"uri\", \"value\": \"http://orkg.org/orkg/resource/R196969\"}, \"label\": {\"type\": \"typed-literal\", \"datatype\": \"http://www.w3.org/2001/XMLSchema#string\", \"value\": \"MADAR corpus\"}}, {\"resource\": {\"type\": \"uri\", \"value\": \"http://orkg.org/orkg/resource/R197107\"}, \"label\": {\"type\": \"typed-literal\", \"datatype\": \"http://www.w3.org/2001/XMLSchema#string\", \"value\": \"Longman Corpus\"}}, {\"resource\": {\"type\": \"uri\", \"value\": \"http://orkg.org/orkg/resource/R197296\"}, \"label\": {\"type\": \"typed-literal\", \"datatype\": \"http://www.w3.org/2001/XMLSchema#string\", \"value\": \"Developing a Multilingual Annotated Corpus of Misogyny and Aggression\"}}, {\"resource\": {\"type\": \"uri\", \"value\": \"http://orkg.org/orkg/resource/R212552\"}, \"label\": {\"type\": \"typed-literal\", \"datatype\": \"http://www.w3.org/2001/XMLSchema#string\", \"value\": \"METU Turkish corpus\"}}, {\"resource\": {\"type\": \"uri\", \"value\": \"http://orkg.org/orkg/resource/R213378\"}, \"label\": {\"type\": \"typed-literal\", \"datatype\": \"http://www.w3.org/2001/XMLSchema#string\", \"value\": \"MET-1 Japanese corpus\"}}, {\"resource\": {\"type\": \"uri\", \"value\": \"http://orkg.org/orkg/resource/R213978\"}, \"label\": {\"type\": \"typed-literal\", \"datatype\": \"http://www.w3.org/2001/XMLSchema#string\", \"value\": \"MUC-7 Spanish NER corpus\"}}, {\"resource\": {\"type\": \"uri\", \"value\": \"http://orkg.org/orkg/resource/R215135\"}, \"label\": {\"type\": \"typed-literal\", \"datatype\": \"http://www.w3.org/2001/XMLSchema#string\", \"value\": \"MET Chinese NER corpus\"}}, {\"resource\": {\"type\": \"uri\", \"value\": \"http://orkg.org/orkg/resource/R151547\"}, \"label\": {\"type\": \"typed-literal\", \"datatype\": \"http://www.w3.org/2001/XMLSchema#string\", \"value\": \"The DDI corpus: An annotated corpus with pharmacological substances and drug\\u2013drug interactions\"}}, {\"resource\": {\"type\": \"uri\", \"value\": \"http://orkg.org/orkg/resource/R154283\"}, \"label\": {\"type\": \"typed-literal\", \"datatype\": \"http://www.w3.org/2001/XMLSchema#string\", \"value\": \"the Semantic Scholar literature corpus (Ammar et al., 2018)\"}}, {\"resource\": {\"type\": \"uri\", \"value\": \"http://orkg.org/orkg/resource/R164323\"}, \"label\": {\"type\": \"typed-literal\", \"datatype\": \"http://www.w3.org/2001/XMLSchema#string\", \"value\": \"a dictionary plus corpus enrichment\"}}, {\"resource\": {\"type\": \"uri\", \"value\": \"http://orkg.org/orkg/resource/R282244\"}, \"label\": {\"type\": \"typed-literal\", \"datatype\": \"http://www.w3.org/2001/XMLSchema#string\", \"value\": \"A Large Scale Corpus of Food Composition Tables\"}}, {\"resource\": {\"type\": \"uri\", \"value\": \"http://orkg.org/orkg/resource/R141848\"}, \"label\": {\"type\": \"typed-literal\", \"datatype\": \"http://www.w3.org/2001/XMLSchema#string\", \"value\": \"dictionary and corpus-based\"}}, {\"resource\": {\"type\": \"uri\", \"value\": \"http://orkg.org/orkg/resource/R147545\"}, \"label\": {\"type\": \"typed-literal\", \"datatype\": \"http://www.w3.org/2001/XMLSchema#string\", \"value\": \"GENIA corpus--a semantically annotated corpus for bio-textmining\"}}, {\"resource\": {\"type\": \"uri\", \"value\": \"http://orkg.org/orkg/resource/R151325\"}, \"label\": {\"type\": \"typed-literal\", \"datatype\": \"http://www.w3.org/2001/XMLSchema#string\", \"value\": \"corpus-level binary classification evaluation\"}}, {\"resource\": {\"type\": \"uri\", \"value\": \"http://orkg.org/orkg/resource/R163836\"}, \"label\": {\"type\": \"typed-literal\", \"datatype\": \"http://www.w3.org/2001/XMLSchema#string\", \"value\": \"domain-level corpus\"}}, {\"resource\": {\"type\": \"uri\", \"value\": \"http://orkg.org/orkg/resource/R163837\"}, \"label\": {\"type\": \"typed-literal\", \"datatype\": \"http://www.w3.org/2001/XMLSchema#string\", \"value\": \"entity-level corpus\"}}, {\"resource\": {\"type\": \"uri\", \"value\": \"http://orkg.org/orkg/resource/R262091\"}, \"label\": {\"type\": \"typed-literal\", \"datatype\": \"http://www.w3.org/2001/XMLSchema#string\", \"value\": \"Misleading YouTube Video Corpus Dataset (MYVC)\"}}, {\"resource\": {\"type\": \"uri\", \"value\": \"http://orkg.org/orkg/resource/R262094\"}, \"label\": {\"type\": \"typed-literal\", \"datatype\": \"http://www.w3.org/2001/XMLSchema#string\", \"value\": \"Misleading YouTube Video Corpus Dataset (MYVC)\"}}, {\"resource\": {\"type\": \"uri\", \"value\": \"http://orkg.org/orkg/resource/R147523\"}, \"label\": {\"type\": \"typed-literal\", \"datatype\": \"http://www.w3.org/2001/XMLSchema#string\", \"value\": \"The ACL Anthology Reference Corpus: A Reference Dataset for Bibliographic Research in Computational Linguistics\"}}, {\"resource\": {\"type\": \"uri\", \"value\": \"http://orkg.org/orkg/resource/R147973\"}, \"label\": {\"type\": \"typed-literal\", \"datatype\": \"http://www.w3.org/2001/XMLSchema#string\", \"value\": \"The ACL Anthology Reference Corpus: A Reference Dataset for Bibliographic Research in Computational Linguistics\"}}, {\"resource\": {\"type\": \"uri\", \"value\": \"http://orkg.org/orkg/resource/R194737\"}, \"label\": {\"type\": \"typed-literal\", \"datatype\": \"http://www.w3.org/2001/XMLSchema#string\", \"value\": \"NCBICorpusDetails\"}}, {\"resource\": {\"type\": \"uri\", \"value\": \"http://orkg.org/orkg/resource/R196968\"}, \"label\": {\"type\": \"typed-literal\", \"datatype\": \"http://www.w3.org/2001/XMLSchema#string\", \"value\": \"NADI corpus\"}}, {\"resource\": {\"type\": \"uri\", \"value\": \"http://orkg.org/orkg/resource/R211514\"}, \"label\": {\"type\": \"typed-literal\", \"datatype\": \"http://www.w3.org/2001/XMLSchema#string\", \"value\": \"NER in the OntoNotes Corpus\"}}, {\"resource\": {\"type\": \"uri\", \"value\": \"http://orkg.org/orkg/resource/R211515\"}, \"label\": {\"type\": \"typed-literal\", \"datatype\": \"http://www.w3.org/2001/XMLSchema#string\", \"value\": \"NER Annotations in the OntoNotes Corpus\"}}, {\"resource\": {\"type\": \"uri\", \"value\": \"http://orkg.org/orkg/resource/R211526\"}, \"label\": {\"type\": \"typed-literal\", \"datatype\": \"http://www.w3.org/2001/XMLSchema#string\", \"value\": \"NNE Corpus\"}}, {\"resource\": {\"type\": \"uri\", \"value\": \"http://orkg.org/orkg/resource/R211924\"}, \"label\": {\"type\": \"typed-literal\", \"datatype\": \"http://www.w3.org/2001/XMLSchema#string\", \"value\": \"NEMO corpus\"}}, {\"resource\": {\"type\": \"uri\", \"value\": \"http://orkg.org/orkg/resource/R213103\"}, \"label\": {\"type\": \"typed-literal\", \"datatype\": \"http://www.w3.org/2001/XMLSchema#string\", \"value\": \"NERSSEAL-08 Hindi NER corpus\"}}, {\"resource\": {\"type\": \"uri\", \"value\": \"http://orkg.org/orkg/resource/R213105\"}, \"label\": {\"type\": \"typed-literal\", \"datatype\": \"http://www.w3.org/2001/XMLSchema#string\", \"value\": \"NERSSEAL-08 Bengali NER corpus\"}}, {\"resource\": {\"type\": \"uri\", \"value\": \"http://orkg.org/orkg/resource/R213106\"}, \"label\": {\"type\": \"typed-literal\", \"datatype\": \"http://www.w3.org/2001/XMLSchema#string\", \"value\": \"NERSSEAL-08 Telugu NER corpus\"}}, {\"resource\": {\"type\": \"uri\", \"value\": \"http://orkg.org/orkg/resource/R213108\"}, \"label\": {\"type\": \"typed-literal\", \"datatype\": \"http://www.w3.org/2001/XMLSchema#string\", \"value\": \"NERSSEAL-08 Oriya NER corpus\"}}, {\"resource\": {\"type\": \"uri\", \"value\": \"http://orkg.org/orkg/resource/R213110\"}, \"label\": {\"type\": \"typed-literal\", \"datatype\": \"http://www.w3.org/2001/XMLSchema#string\", \"value\": \"NERSSEAL-08 Urdu NER corpus\"}}, {\"resource\": {\"type\": \"uri\", \"value\": \"http://orkg.org/orkg/resource/R213599\"}, \"label\": {\"type\": \"typed-literal\", \"datatype\": \"http://www.w3.org/2001/XMLSchema#string\", \"value\": \"NTU balanced corpus\"}}, {\"resource\": {\"type\": \"uri\", \"value\": \"http://orkg.org/orkg/resource/R214325\"}, \"label\": {\"type\": \"typed-literal\", \"datatype\": \"http://www.w3.org/2001/XMLSchema#string\", \"value\": \"A German Corpus for Fine-Grained Named Entity Recognition and Relation Extraction of Traffic and Industry Events\"}}, {\"resource\": {\"type\": \"uri\", \"value\": \"http://orkg.org/orkg/resource/R220872\"}, \"label\": {\"type\": \"typed-literal\", \"datatype\": \"http://www.w3.org/2001/XMLSchema#string\", \"value\": \"NER Annotations in the OntoNotes Corpus\"}}, {\"resource\": {\"type\": \"uri\", \"value\": \"http://orkg.org/orkg/resource/R144758\"}, \"label\": {\"type\": \"typed-literal\", \"datatype\": \"http://www.w3.org/2001/XMLSchema#string\", \"value\": \"the NUS Corpus of Learner English (Dahlmeier et al., 2013)\"}}, {\"resource\": {\"type\": \"uri\", \"value\": \"http://orkg.org/orkg/resource/R211267\"}, \"label\": {\"type\": \"typed-literal\", \"datatype\": \"http://www.w3.org/2001/XMLSchema#string\", \"value\": \"OntoNotes 4.0 NER Corpus\"}}, {\"resource\": {\"type\": \"uri\", \"value\": \"http://orkg.org/orkg/resource/R144757\"}, \"label\": {\"type\": \"typed-literal\", \"datatype\": \"http://www.w3.org/2001/XMLSchema#string\", \"value\": \"the NUCLE corpus\"}}, {\"resource\": {\"type\": \"uri\", \"value\": \"http://orkg.org/orkg/resource/R145032\"}, \"label\": {\"type\": \"typed-literal\", \"datatype\": \"http://www.w3.org/2001/XMLSchema#string\", \"value\": \"the biological part of the BioScope corpus\"}}, {\"resource\": {\"type\": \"uri\", \"value\": \"http://orkg.org/orkg/resource/R147663\"}, \"label\": {\"type\": \"typed-literal\", \"datatype\": \"http://www.w3.org/2001/XMLSchema#string\", \"value\": \"the ACL Anthology Network (AAN) Corpus\"}}, {\"resource\": {\"type\": \"uri\", \"value\": \"http://orkg.org/orkg/resource/R163838\"}, \"label\": {\"type\": \"typed-literal\", \"datatype\": \"http://www.w3.org/2001/XMLSchema#string\", \"value\": \"task-level corpus\"}}, {\"resource\": {\"type\": \"uri\", \"value\": \"http://orkg.org/orkg/resource/R212712\"}, \"label\": {\"type\": \"typed-literal\", \"datatype\": \"http://www.w3.org/2001/XMLSchema#string\", \"value\": \"People's Daily corpus\"}}, {\"resource\": {\"type\": \"uri\", \"value\": \"http://orkg.org/orkg/resource/R141841\"}, \"label\": {\"type\": \"typed-literal\", \"datatype\": \"http://www.w3.org/2001/XMLSchema#string\", \"value\": \"The OntoNotes Release 2.0 corpus (Pradhan et al., 2007)\"}}, {\"resource\": {\"type\": \"uri\", \"value\": \"http://orkg.org/orkg/resource/R162391\"}, \"label\": {\"type\": \"typed-literal\", \"datatype\": \"http://www.w3.org/2001/XMLSchema#string\", \"value\": \"Overview of the chemical compound and drug name recognition (CHEMDNER) task\"}}, {\"resource\": {\"type\": \"uri\", \"value\": \"http://orkg.org/orkg/resource/R166276\"}, \"label\": {\"type\": \"typed-literal\", \"datatype\": \"http://www.w3.org/2001/XMLSchema#string\", \"value\": \"BBN Pronoun Coreference and Entity Type Corpus LDC2005T33\"}}, {\"resource\": {\"type\": \"uri\", \"value\": \"http://orkg.org/orkg/resource/R166293\"}, \"label\": {\"type\": \"typed-literal\", \"datatype\": \"http://www.w3.org/2001/XMLSchema#string\", \"value\": \"Broad Twitter Corpus: A Diverse Named Entity Recognition Resource\"}}, {\"resource\": {\"type\": \"uri\", \"value\": \"http://orkg.org/orkg/resource/R76121\"}, \"label\": {\"type\": \"typed-literal\", \"datatype\": \"http://www.w3.org/2001/XMLSchema#string\", \"value\": \"uses RoBERTa as the encoder, and conduct a second pretraining on the original RoBERTa model with the textual corpus from Open Mind Common Sense\"}}, {\"resource\": {\"type\": \"uri\", \"value\": \"http://orkg.org/orkg/resource/R164174\"}, \"label\": {\"type\": \"typed-literal\", \"datatype\": \"http://www.w3.org/2001/XMLSchema#string\", \"value\": \"Corpus annotation for mining biomedical events from literature\"}}, {\"resource\": {\"type\": \"uri\", \"value\": \"http://orkg.org/orkg/resource/R142114\"}, \"label\": {\"type\": \"typed-literal\", \"datatype\": \"http://www.w3.org/2001/XMLSchema#string\", \"value\": \"a subset of the SciEntsBank Extra corpus (Nielsen et al., 2008b)\"}}, {\"resource\": {\"type\": \"uri\", \"value\": \"http://orkg.org/orkg/resource/R69300\"}, \"label\": {\"type\": \"typed-literal\", \"datatype\": \"http://www.w3.org/2001/XMLSchema#string\", \"value\": \"NCBI disease corpus: A resource for disease name recognition and concept normalization\"}}, {\"resource\": {\"type\": \"uri\", \"value\": \"http://orkg.org/orkg/resource/R196970\"}, \"label\": {\"type\": \"typed-literal\", \"datatype\": \"http://www.w3.org/2001/XMLSchema#string\", \"value\": \"QADI corpus\"}}, {\"resource\": {\"type\": \"uri\", \"value\": \"http://orkg.org/orkg/resource/R151322\"}, \"label\": {\"type\": \"typed-literal\", \"datatype\": \"http://www.w3.org/2001/XMLSchema#string\", \"value\": \"Open research corpus of scientific papers with metadata\"}}, {\"resource\": {\"type\": \"uri\", \"value\": \"http://orkg.org/orkg/resource/R76422\"}, \"label\": {\"type\": \"typed-literal\", \"datatype\": \"http://www.w3.org/2001/XMLSchema#string\", \"value\": \"Clean Corpus of Historical American English (CCOHA)\"}}, {\"resource\": {\"type\": \"uri\", \"value\": \"http://orkg.org/orkg/resource/R147987\"}, \"label\": {\"type\": \"typed-literal\", \"datatype\": \"http://www.w3.org/2001/XMLSchema#string\", \"value\": \"LC-QuAD: A Corpus for Complex Question Answering over Knowledge Graphs\"}}, {\"resource\": {\"type\": \"uri\", \"value\": \"http://orkg.org/orkg/resource/R163666\"}, \"label\": {\"type\": \"typed-literal\", \"datatype\": \"http://www.w3.org/2001/XMLSchema#string\", \"value\": \"An Overview of the Active Gene Annotation Corpus and the BioNLP OST 2019 AGAC Track Tasks\"}}, {\"resource\": {\"type\": \"uri\", \"value\": \"http://orkg.org/orkg/resource/R213048\"}, \"label\": {\"type\": \"typed-literal\", \"datatype\": \"http://www.w3.org/2001/XMLSchema#string\", \"value\": \"RussIE NER corpus\"}}, {\"resource\": {\"type\": \"uri\", \"value\": \"http://orkg.org/orkg/resource/R163109\"}, \"label\": {\"type\": \"typed-literal\", \"datatype\": \"http://www.w3.org/2001/XMLSchema#string\", \"value\": \"WiNER: A Wikipedia Annotated Corpus for Named Entity Recognition\"}}, {\"resource\": {\"type\": \"uri\", \"value\": \"http://orkg.org/orkg/resource/R163844\"}, \"label\": {\"type\": \"typed-literal\", \"datatype\": \"http://www.w3.org/2001/XMLSchema#string\", \"value\": \"The CrossNER corpus Reuters Source Domain Dataset versus its Five Target Domain Datasets in terms of Sizes\"}}, {\"resource\": {\"type\": \"uri\", \"value\": \"http://orkg.org/orkg/resource/R76338\"}, \"label\": {\"type\": \"typed-literal\", \"datatype\": \"http://www.w3.org/2001/XMLSchema#string\", \"value\": \"SemEval-2020 Task 6: Definition Extraction from Free Text with the DEFT Corpus\"}}, {\"resource\": {\"type\": \"uri\", \"value\": \"http://orkg.org/orkg/resource/R197112\"}, \"label\": {\"type\": \"typed-literal\", \"datatype\": \"http://www.w3.org/2001/XMLSchema#string\", \"value\": \"Santa Barbara corpus of spoken American English\"}}, {\"resource\": {\"type\": \"uri\", \"value\": \"http://orkg.org/orkg/resource/R213422\"}, \"label\": {\"type\": \"typed-literal\", \"datatype\": \"http://www.w3.org/2001/XMLSchema#string\", \"value\": \"SiNER corpus\"}}, {\"resource\": {\"type\": \"uri\", \"value\": \"http://orkg.org/orkg/resource/R172006\"}, \"label\": {\"type\": \"typed-literal\", \"datatype\": \"http://www.w3.org/2001/XMLSchema#string\", \"value\": \"chemical-induced disease (CID) relation extraction corpus\"}}, {\"resource\": {\"type\": \"uri\", \"value\": \"http://orkg.org/orkg/resource/R212906\"}, \"label\": {\"type\": \"typed-literal\", \"datatype\": \"http://www.w3.org/2001/XMLSchema#string\", \"value\": \"Spanish Corpus\"}}, {\"resource\": {\"type\": \"uri\", \"value\": \"http://orkg.org/orkg/resource/R212908\"}, \"label\": {\"type\": \"typed-literal\", \"datatype\": \"http://www.w3.org/2001/XMLSchema#string\", \"value\": \"Spanish Corpus\"}}, {\"resource\": {\"type\": \"uri\", \"value\": \"http://orkg.org/orkg/resource/R212910\"}, \"label\": {\"type\": \"typed-literal\", \"datatype\": \"http://www.w3.org/2001/XMLSchema#string\", \"value\": \"Spanish Corpus + LSTM\"}}, {\"resource\": {\"type\": \"uri\", \"value\": \"http://orkg.org/orkg/resource/R212911\"}, \"label\": {\"type\": \"typed-literal\", \"datatype\": \"http://www.w3.org/2001/XMLSchema#string\", \"value\": \"Spanish Corpus + CNN\"}}, {\"resource\": {\"type\": \"uri\", \"value\": \"http://orkg.org/orkg/resource/R214067\"}, \"label\": {\"type\": \"typed-literal\", \"datatype\": \"http://www.w3.org/2001/XMLSchema#string\", \"value\": \"Spanish Gigaword Corpus\"}}, {\"resource\": {\"type\": \"uri\", \"value\": \"http://orkg.org/orkg/resource/R214111\"}, \"label\": {\"type\": \"typed-literal\", \"datatype\": \"http://www.w3.org/2001/XMLSchema#string\", \"value\": \"SpanishADR corpus\"}}, {\"resource\": {\"type\": \"uri\", \"value\": \"http://orkg.org/orkg/resource/R215099\"}, \"label\": {\"type\": \"typed-literal\", \"datatype\": \"http://www.w3.org/2001/XMLSchema#string\", \"value\": \"TDT-4 Corpus\"}}, {\"resource\": {\"type\": \"uri\", \"value\": \"http://orkg.org/orkg/resource/R215525\"}, \"label\": {\"type\": \"typed-literal\", \"datatype\": \"http://www.w3.org/2001/XMLSchema#string\", \"value\": \"TDT4 corpus\"}}, {\"resource\": {\"type\": \"uri\", \"value\": \"http://orkg.org/orkg/resource/R236539\"}, \"label\": {\"type\": \"typed-literal\", \"datatype\": \"http://www.w3.org/2001/XMLSchema#string\", \"value\": \"Subgroup A Nepoviruses location of Corpus Callosum\"}}, {\"resource\": {\"type\": \"uri\", \"value\": \"http://orkg.org/orkg/resource/R282245\"}, \"label\": {\"type\": \"typed-literal\", \"datatype\": \"http://www.w3.org/2001/XMLSchema#string\", \"value\": \"TSOTSACorpus description\"}}, {\"resource\": {\"type\": \"uri\", \"value\": \"http://orkg.org/orkg/resource/R212646\"}, \"label\": {\"type\": \"typed-literal\", \"datatype\": \"http://www.w3.org/2001/XMLSchema#string\", \"value\": \"TurkIE corpus\"}}, {\"resource\": {\"type\": \"uri\", \"value\": \"http://orkg.org/orkg/resource/R213008\"}, \"label\": {\"type\": \"typed-literal\", \"datatype\": \"http://www.w3.org/2001/XMLSchema#string\", \"value\": \"Vietnamese Treebank NER corpus\"}}, {\"resource\": {\"type\": \"uri\", \"value\": \"http://orkg.org/orkg/resource/R213016\"}, \"label\": {\"type\": \"typed-literal\", \"datatype\": \"http://www.w3.org/2001/XMLSchema#string\", \"value\": \"Vietnamese Treebank corpus\"}}, {\"resource\": {\"type\": \"uri\", \"value\": \"http://orkg.org/orkg/resource/R213213\"}, \"label\": {\"type\": \"typed-literal\", \"datatype\": \"http://www.w3.org/2001/XMLSchema#string\", \"value\": \"\\u2018news\\u2019 domain corpus from Goldhahn et al. (2012)\"}}, {\"resource\": {\"type\": \"uri\", \"value\": \"http://orkg.org/orkg/resource/R285058\"}, \"label\": {\"type\": \"typed-literal\", \"datatype\": \"http://www.w3.org/2001/XMLSchema#string\", \"value\": \"Journal pages from University of Washington corpus\"}}, {\"resource\": {\"type\": \"uri\", \"value\": \"http://orkg.org/orkg/resource/R194035\"}, \"label\": {\"type\": \"typed-literal\", \"datatype\": \"http://www.w3.org/2001/XMLSchema#string\", \"value\": \"arTenTen: Arabic Corpus and Word Sketches\"}}, {\"resource\": {\"type\": \"uri\", \"value\": \"http://orkg.org/orkg/resource/R194038\"}, \"label\": {\"type\": \"typed-literal\", \"datatype\": \"http://www.w3.org/2001/XMLSchema#string\", \"value\": \"The International Corpus of Arabic: Compilation, Analysis and Evaluation\"}}, {\"resource\": {\"type\": \"uri\", \"value\": \"http://orkg.org/orkg/resource/R213529\"}, \"label\": {\"type\": \"typed-literal\", \"datatype\": \"http://www.w3.org/2001/XMLSchema#string\", \"value\": \"pioNER Armenian NER corpus\"}}, {\"resource\": {\"type\": \"uri\", \"value\": \"http://orkg.org/orkg/resource/R197311\"}, \"label\": {\"type\": \"typed-literal\", \"datatype\": \"http://www.w3.org/2001/XMLSchema#string\", \"value\": \"Annotated Speech Corpus for Low Resource Indian Languages: Awadhi, Bhojpuri, Braj and Magahi\"}}, {\"resource\": {\"type\": \"uri\", \"value\": \"http://orkg.org/orkg/resource/R212917\"}, \"label\": {\"type\": \"typed-literal\", \"datatype\": \"http://www.w3.org/2001/XMLSchema#string\", \"value\": \"Comparative analysis of machine learning methods to detect fake news in an Urdu language <i>corpus</i>\"}}, {\"resource\": {\"type\": \"uri\", \"value\": \"http://orkg.org/orkg/resource/R213487\"}, \"label\": {\"type\": \"typed-literal\", \"datatype\": \"http://www.w3.org/2001/XMLSchema#string\", \"value\": \"An Open Corpus for Named Entity Recognition in Historic Newspapers\"}}, {\"resource\": {\"type\": \"uri\", \"value\": \"http://orkg.org/orkg/resource/R197301\"}, \"label\": {\"type\": \"typed-literal\", \"datatype\": \"http://www.w3.org/2001/XMLSchema#string\", \"value\": \"Aggression-annotated Corpus of Hindi-English Code-mixed Data\"}}, {\"resource\": {\"type\": \"uri\", \"value\": \"http://orkg.org/orkg/resource/R212746\"}, \"label\": {\"type\": \"typed-literal\", \"datatype\": \"http://www.w3.org/2001/XMLSchema#string\", \"value\": \"Accident report and executive succession NER corpus\"}}, {\"resource\": {\"type\": \"uri\", \"value\": \"http://orkg.org/orkg/resource/R214163\"}, \"label\": {\"type\": \"typed-literal\", \"datatype\": \"http://www.w3.org/2001/XMLSchema#string\", \"value\": \"On the creation of a clinical gold standard corpus in Spanish: Mining adverse drug reactions\"}}, {\"resource\": {\"type\": \"uri\", \"value\": \"http://orkg.org/orkg/resource/R194710\"}, \"label\": {\"type\": \"typed-literal\", \"datatype\": \"http://www.w3.org/2001/XMLSchema#string\", \"value\": \"A Corpus with Multi-Level Annotations of Patients, Interventions and Outcomes to Support Language Processing for Medical Literature\"}}, {\"resource\": {\"type\": \"uri\", \"value\": \"http://orkg.org/orkg/resource/R212787\"}, \"label\": {\"type\": \"typed-literal\", \"datatype\": \"http://www.w3.org/2001/XMLSchema#string\", \"value\": \"Detection of fake news in a new corpus for the Spanish language\"}}, {\"resource\": {\"type\": \"uri\", \"value\": \"http://orkg.org/orkg/resource/R215176\"}, \"label\": {\"type\": \"typed-literal\", \"datatype\": \"http://www.w3.org/2001/XMLSchema#string\", \"value\": \"Constructing a Japanese basic named entity corpus of various genres\"}}, {\"resource\": {\"type\": \"uri\", \"value\": \"http://orkg.org/orkg/resource/R211921\"}, \"label\": {\"type\": \"typed-literal\", \"datatype\": \"http://www.w3.org/2001/XMLSchema#string\", \"value\": \"Nested Named Entity Recognition Corpus and Extended Named Entity Hierarchies for the Newswire domain\"}}, {\"resource\": {\"type\": \"uri\", \"value\": \"http://orkg.org/orkg/resource/R213157\"}, \"label\": {\"type\": \"typed-literal\", \"datatype\": \"http://www.w3.org/2001/XMLSchema#string\", \"value\": \"Development of bengali named entity tagged corpus and its use in ner systems\"}}, {\"resource\": {\"type\": \"uri\", \"value\": \"http://orkg.org/orkg/resource/R213997\"}, \"label\": {\"type\": \"typed-literal\", \"datatype\": \"http://www.w3.org/2001/XMLSchema#string\", \"value\": \"MEANTIME English language-projected Spanish NER corpus\"}}, {\"resource\": {\"type\": \"uri\", \"value\": \"http://orkg.org/orkg/resource/R225211\"}, \"label\": {\"type\": \"typed-literal\", \"datatype\": \"http://www.w3.org/2001/XMLSchema#string\", \"value\": \"ontology learning from corpus of computer science can be improved via the relation instances extracted from DBpedia\"}}, {\"resource\": {\"type\": \"uri\", \"value\": \"http://orkg.org/orkg/resource/R196901\"}, \"label\": {\"type\": \"typed-literal\", \"datatype\": \"http://www.w3.org/2001/XMLSchema#string\", \"value\": \"corpus consisting of essays from this contest written by L2 learners + students with Russian as a heritage language (HL) as well as native speakers\"}}, {\"resource\": {\"type\": \"uri\", \"value\": \"http://orkg.org/orkg/resource/R212775\"}, \"label\": {\"type\": \"typed-literal\", \"datatype\": \"http://www.w3.org/2001/XMLSchema#string\", \"value\": \"Multi-class BERT classifier trained on a large corpus\"}}, {\"resource\": {\"type\": \"uri\", \"value\": \"http://orkg.org/orkg/resource/R242072\"}, \"label\": {\"type\": \"typed-literal\", \"datatype\": \"http://www.w3.org/2001/XMLSchema#string\", \"value\": \"SOAT: A Semi-Automatic Domain Ontology Acquisition Tool from Chinese Corpus\"}}, {\"resource\": {\"type\": \"uri\", \"value\": \"http://orkg.org/orkg/resource/R286998\"}, \"label\": {\"type\": \"typed-literal\", \"datatype\": \"http://www.w3.org/2001/XMLSchema#string\", \"value\": \"TSOTSACorpus\"}}, {\"resource\": {\"type\": \"uri\", \"value\": \"http://orkg.org/orkg/resource/R287054\"}, \"label\": {\"type\": \"typed-literal\", \"datatype\": \"http://www.w3.org/2001/XMLSchema#string\", \"value\": \"TSOTSACorpus\"}}, {\"resource\": {\"type\": \"uri\", \"value\": \"http://orkg.org/orkg/resource/R209630\"}, \"label\": {\"type\": \"typed-literal\", \"datatype\": \"http://www.w3.org/2001/XMLSchema#string\", \"value\": \"A corpus and cloze evaluation for deeper understanding of commonsense stories\"}}, {\"resource\": {\"type\": \"uri\", \"value\": \"http://orkg.org/orkg/resource/R213545\"}, \"label\": {\"type\": \"typed-literal\", \"datatype\": \"http://www.w3.org/2001/XMLSchema#string\", \"value\": \"An automatically generated annotated corpus for albanian named entity recognition\"}}, {\"resource\": {\"type\": \"uri\", \"value\": \"http://orkg.org/orkg/resource/R213995\"}, \"label\": {\"type\": \"typed-literal\", \"datatype\": \"http://www.w3.org/2001/XMLSchema#string\", \"value\": \"MEANTIME, the NewsReader Multilingual Event and Time Corpus\"}}, {\"resource\": {\"type\": \"uri\", \"value\": \"http://orkg.org/orkg/resource/R215421\"}, \"label\": {\"type\": \"typed-literal\", \"datatype\": \"http://www.w3.org/2001/XMLSchema#string\", \"value\": \"English translations from the Chinese Treebank English    Parallel Text Corpus\"}}, {\"resource\": {\"type\": \"uri\", \"value\": \"http://orkg.org/orkg/resource/R286774\"}, \"label\": {\"type\": \"typed-literal\", \"datatype\": \"http://www.w3.org/2001/XMLSchema#string\", \"value\": \"WDC schema.org table corpus\"}}, {\"resource\": {\"type\": \"uri\", \"value\": \"http://orkg.org/orkg/resource/R284078\"}, \"label\": {\"type\": \"typed-literal\", \"datatype\": \"http://www.w3.org/2001/XMLSchema#string\", \"value\": \"Semi-Automatic Corpus Expansion and Extraction of Uyghur-Named Entities and Relations Based on a Hybrid Method\"}}, {\"resource\": {\"type\": \"uri\", \"value\": \"http://orkg.org/orkg/resource/R283744\"}, \"label\": {\"type\": \"typed-literal\", \"datatype\": \"http://www.w3.org/2001/XMLSchema#string\", \"value\": \"\\\"cometa: a corpus for medical entity linking in the social media\\\"\"}}, {\"resource\": {\"type\": \"uri\", \"value\": \"http://orkg.org/orkg/resource/R283786\"}, \"label\": {\"type\": \"typed-literal\", \"datatype\": \"http://www.w3.org/2001/XMLSchema#string\", \"value\": \"\\\"webisagraph: a very large hypernymy graph from a web corpus\\\"\"}}]}}\n"
     ]
    }
   ],
   "source": [
    "def build_sparql_query_entity(text: str) -> str:\n",
    "    \"\"\"\n",
    "    Build a SPARQL query that filters resources by requiring all words\n",
    "    in `text` to appear in the label (case-insensitive).\n",
    "    \"\"\"\n",
    "    # Split text into lowercase tokens\n",
    "    tokens = text.lower().split()\n",
    "\n",
    "    # Build FILTER expression: require all tokens (AND logic)\n",
    "    filter_parts = [f'CONTAINS(LCASE(STR(?label)), \"{t}\")' for t in tokens]\n",
    "    # filter_expr = \" && \".join(filter_parts)  # AND: all words must appear\n",
    "    filter_expr = \" || \".join(filter_parts)  # OR logic: any word can appear\n",
    "\n",
    "    query = f\"\"\"\n",
    "        PREFIX rdfs: <http://www.w3.org/2000/01/rdf-schema#>\n",
    "\n",
    "        SELECT DISTINCT ?resource ?label\n",
    "        WHERE {{\n",
    "        ?resource ?p ?o .\n",
    "        ?resource rdfs:label ?label .\n",
    "        FILTER ( {filter_expr} )\n",
    "        }}\n",
    "        \"\"\"\n",
    "    return query\n",
    "\n",
    "query = build_sparql_query_entity(\"CHEMDNER corpus\")\n",
    "print(f\"query: {query}\")\n",
    "\n",
    "from helper import run_sparql_query\n",
    "results = run_sparql_query(sparql_text = query, SPARQLPATH=\"http://localhost:8890/sparql\")\n",
    "print(results)\n",
    "\n"
   ]
  },
  {
   "cell_type": "code",
   "execution_count": 37,
   "id": "8c632618",
   "metadata": {},
   "outputs": [
    {
     "name": "stdout",
     "output_type": "stream",
     "text": [
      "query: \n",
      "        PREFIX rdfs: <http://www.w3.org/2000/01/rdf-schema#>\n",
      "\n",
      "        SELECT DISTINCT ?p ?label\n",
      "        WHERE {\n",
      "        ?s ?p ?o .\n",
      "        ?p rdfs:label ?label .\n",
      "        FILTER ( CONTAINS(LCASE(STR(?label)), \"maximal\") || CONTAINS(LCASE(STR(?label)), \"geographic\") || CONTAINS(LCASE(STR(?label)), \"scale\") )\n",
      "        }\n",
      "        \n",
      "{\"head\": {\"vars\": [\"p\", \"label\"]}, \"results\": {\"bindings\": [{\"p\": {\"type\": \"uri\", \"value\": \"http://orkg.org/orkg/predicate/P44135\"}, \"label\": {\"type\": \"typed-literal\", \"datatype\": \"http://www.w3.org/2001/XMLSchema#string\", \"value\": \"Evaluates how the benefit of working with smaller vocabularies for numbers and geographic locations\"}}, {\"p\": {\"type\": \"uri\", \"value\": \"http://orkg.org/orkg/predicate/P15132\"}, \"label\": {\"type\": \"typed-literal\", \"datatype\": \"http://www.w3.org/2001/XMLSchema#string\", \"value\": \"Activity\\u2019s size (small scale of operat.)\"}}, {\"p\": {\"type\": \"uri\", \"value\": \"http://orkg.org/orkg/predicate/P37256\"}, \"label\": {\"type\": \"typed-literal\", \"datatype\": \"http://www.w3.org/2001/XMLSchema#string\", \"value\": \"Biogeographical region\"}}, {\"p\": {\"type\": \"uri\", \"value\": \"http://orkg.org/orkg/predicate/P15659\"}, \"label\": {\"type\": \"typed-literal\", \"datatype\": \"http://www.w3.org/2001/XMLSchema#string\", \"value\": \"Economies of Scale\"}}, {\"p\": {\"type\": \"uri\", \"value\": \"http://orkg.org/orkg/predicate/P37545\"}, \"label\": {\"type\": \"typed-literal\", \"datatype\": \"http://www.w3.org/2001/XMLSchema#string\", \"value\": \"Geographical scope\"}}, {\"p\": {\"type\": \"uri\", \"value\": \"http://orkg.org/orkg/predicate/P41568\"}, \"label\": {\"type\": \"typed-literal\", \"datatype\": \"http://www.w3.org/2001/XMLSchema#string\", \"value\": \"Geographic scale (Km\\u00b2)\"}}, {\"p\": {\"type\": \"uri\", \"value\": \"http://orkg.org/orkg/predicate/P96014\"}, \"label\": {\"type\": \"typed-literal\", \"datatype\": \"http://www.w3.org/2001/XMLSchema#string\", \"value\": \"GeographicalRegion\"}}, {\"p\": {\"type\": \"uri\", \"value\": \"http://orkg.org/orkg/predicate/P15662\"}, \"label\": {\"type\": \"typed-literal\", \"datatype\": \"http://www.w3.org/2001/XMLSchema#string\", \"value\": \"Scale economies evaluated  in the approximation point\"}}, {\"p\": {\"type\": \"uri\", \"value\": \"http://orkg.org/orkg/predicate/P15473\"}, \"label\": {\"type\": \"typed-literal\", \"datatype\": \"http://www.w3.org/2001/XMLSchema#string\", \"value\": \"Scale factor\"}}, {\"p\": {\"type\": \"uri\", \"value\": \"http://orkg.org/orkg/predicate/P37564\"}, \"label\": {\"type\": \"typed-literal\", \"datatype\": \"http://www.w3.org/2001/XMLSchema#string\", \"value\": \"Scale-up (mg)\"}}, {\"p\": {\"type\": \"uri\", \"value\": \"http://orkg.org/orkg/predicate/P37598\"}, \"label\": {\"type\": \"typed-literal\", \"datatype\": \"http://www.w3.org/2001/XMLSchema#string\", \"value\": \"Scale\"}}, {\"p\": {\"type\": \"uri\", \"value\": \"http://orkg.org/orkg/predicate/P45117\"}, \"label\": {\"type\": \"typed-literal\", \"datatype\": \"http://www.w3.org/2001/XMLSchema#string\", \"value\": \"Results Geographics Location Word Classes\"}}, {\"p\": {\"type\": \"uri\", \"value\": \"http://orkg.org/orkg/predicate/P49082\"}, \"label\": {\"type\": \"typed-literal\", \"datatype\": \"http://www.w3.org/2001/XMLSchema#string\", \"value\": \"geographical coverage\"}}, {\"p\": {\"type\": \"uri\", \"value\": \"http://orkg.org/orkg/predicate/P71186\"}, \"label\": {\"type\": \"typed-literal\", \"datatype\": \"http://www.w3.org/2001/XMLSchema#string\", \"value\": \"geographical dataset\"}}, {\"p\": {\"type\": \"uri\", \"value\": \"http://orkg.org/orkg/predicate/P35113\"}, \"label\": {\"type\": \"typed-literal\", \"datatype\": \"http://www.w3.org/2001/XMLSchema#string\", \"value\": \"scale type\"}}, {\"p\": {\"type\": \"uri\", \"value\": \"http://orkg.org/orkg/predicate/P8005\"}, \"label\": {\"type\": \"typed-literal\", \"datatype\": \"http://www.w3.org/2001/XMLSchema#string\", \"value\": \"scales up\"}}, {\"p\": {\"type\": \"uri\", \"value\": \"http://orkg.org/orkg/predicate/P15139\"}, \"label\": {\"type\": \"typed-literal\", \"datatype\": \"http://www.w3.org/2001/XMLSchema#string\", \"value\": \"Criteria Economic Activity\\u2019s size (small scale of operat.)\"}}]}}\n"
     ]
    }
   ],
   "source": [
    "def build_sparql_query_properties(text: str) -> str:\n",
    "    \"\"\"\n",
    "    Build a SPARQL query that filters resources by requiring all words\n",
    "    in `text` to appear in the label (case-insensitive).\n",
    "    \"\"\"\n",
    "    # Split text into lowercase tokens\n",
    "    tokens = text.lower().split()\n",
    "\n",
    "    # Build FILTER expression: require all tokens (AND logic)\n",
    "    filter_parts = [f'CONTAINS(LCASE(STR(?label)), \"{t}\")' for t in tokens]\n",
    "    # filter_expr = \" && \".join(filter_parts)  # AND: all words must appear\n",
    "    filter_expr = \" || \".join(filter_parts)  # OR logic: any word can appear\n",
    "\n",
    "    query = f\"\"\"\n",
    "        PREFIX rdfs: <http://www.w3.org/2000/01/rdf-schema#>\n",
    "\n",
    "        SELECT DISTINCT ?p ?label\n",
    "        WHERE {{\n",
    "        ?s ?p ?o .\n",
    "        ?p rdfs:label ?label .\n",
    "        FILTER ( {filter_expr} )\n",
    "        }}\n",
    "        \"\"\"\n",
    "    return query\n",
    "\n",
    "# query = build_sparql_query(\"CHEMDNER corpus\")\n",
    "query = build_sparql_query_properties(\"maximal geographic scale\")\n",
    "print(f\"query: {query}\")\n",
    "\n",
    "from helper import run_sparql_query\n",
    "results = run_sparql_query(sparql_text = query, SPARQLPATH=\"http://localhost:8890/sparql\")\n",
    "print(results)\n",
    "\n"
   ]
  },
  {
   "cell_type": "code",
   "execution_count": 1,
   "id": "be214e9e",
   "metadata": {},
   "outputs": [
    {
     "name": "stdout",
     "output_type": "stream",
     "text": [
      "                                                  p               label\n",
      "0     http://www.w3.org/2002/07/owl#equivalentClass     equivalentClass\n",
      "1  http://www.w3.org/2002/07/owl#equivalentProperty  equivalentProperty\n",
      "2        http://www.w3.org/2002/07/owl#complementOf        complementOf\n",
      "3             http://www.w3.org/2002/07/owl#unionOf             unionOf\n",
      "4             http://www.w3.org/2002/07/owl#imports             imports\n"
     ]
    }
   ],
   "source": [
    "# read a csv file with columns: \"p\",\"label\" into a pandas dataframe\n",
    "import pandas as pd\n",
    "property_df = pd.read_csv(\"/Users/sherrypan/GitHub/GAR_SKGQA/datasets/sciqa/project_data/property-labels.csv\")\n",
    "print(property_df.head())"
   ]
  },
  {
   "cell_type": "code",
   "execution_count": 2,
   "id": "dc03825f",
   "metadata": {},
   "outputs": [],
   "source": [
    "property_ls = property_df[\"label\"].tolist()"
   ]
  },
  {
   "cell_type": "code",
   "execution_count": 3,
   "id": "6412008d",
   "metadata": {},
   "outputs": [
    {
     "data": {
      "text/plain": [
       "6892"
      ]
     },
     "execution_count": 3,
     "metadata": {},
     "output_type": "execute_result"
    }
   ],
   "source": [
    "len(property_ls)"
   ]
  },
  {
   "cell_type": "code",
   "execution_count": 18,
   "id": "10145597",
   "metadata": {},
   "outputs": [],
   "source": [
    "## entity embedding \n",
    "# Requires transformers>=4.51.0\n",
    "# Requires sentence-transformers>=2.7.0\n",
    "import time\n",
    "from sentence_transformers import SentenceTransformer\n",
    "\n",
    "# Load the model\n",
    "model = SentenceTransformer(\"Qwen/Qwen3-Embedding-0.6B\")"
   ]
  },
  {
   "cell_type": "code",
   "execution_count": 8,
   "id": "525ee5fb",
   "metadata": {},
   "outputs": [
    {
     "name": "stdout",
     "output_type": "stream",
     "text": [
      "Start encoding candidate properties...\n",
      "Finish encoding candidate properties...\n",
      "Time taken to encode 6892 candidate properties: 19.817121028900146 seconds\n"
     ]
    }
   ],
   "source": [
    "candidate_properties = property_ls\n",
    "print(\"Start encoding candidate properties...\")\n",
    "start = time.time()\n",
    "candidate_embeddings = model.encode(candidate_properties)\n",
    "print(\"Finish encoding candidate properties...\")\n",
    "end = time.time()\n",
    "print(f\"Time taken to encode {len(candidate_properties)} candidate properties: {end - start} seconds\")"
   ]
  },
  {
   "cell_type": "code",
   "execution_count": 22,
   "id": "35ffb2d4",
   "metadata": {},
   "outputs": [
    {
     "name": "stderr",
     "output_type": "stream",
     "text": [
      "/var/folders/s9/jr1wz_ts529fv9vg79f26xth0000gp/T/ipykernel_2248/2098080840.py:11: UserWarning: To copy construct from a tensor, it is recommended to use sourceTensor.detach().clone() or sourceTensor.detach().clone().requires_grad_(True), rather than torch.tensor(sourceTensor).\n",
      "  similarity = torch.tensor(similarity)\n"
     ]
    },
    {
     "data": {
      "text/html": [
       "<div>\n",
       "<style scoped>\n",
       "    .dataframe tbody tr th:only-of-type {\n",
       "        vertical-align: middle;\n",
       "    }\n",
       "\n",
       "    .dataframe tbody tr th {\n",
       "        vertical-align: top;\n",
       "    }\n",
       "\n",
       "    .dataframe thead th {\n",
       "        text-align: right;\n",
       "    }\n",
       "</style>\n",
       "<table border=\"1\" class=\"dataframe\">\n",
       "  <thead>\n",
       "    <tr style=\"text-align: right;\">\n",
       "      <th></th>\n",
       "      <th>source_property</th>\n",
       "      <th>candidate_property</th>\n",
       "      <th>similarity_score</th>\n",
       "    </tr>\n",
       "  </thead>\n",
       "  <tbody>\n",
       "    <tr>\n",
       "      <th>0</th>\n",
       "      <td>maximal geographic scale</td>\n",
       "      <td>Geographic scale (Km²)</td>\n",
       "      <td>0.5569</td>\n",
       "    </tr>\n",
       "    <tr>\n",
       "      <th>1</th>\n",
       "      <td>maximal geographic scale</td>\n",
       "      <td>Geographical scope</td>\n",
       "      <td>0.5455</td>\n",
       "    </tr>\n",
       "    <tr>\n",
       "      <th>2</th>\n",
       "      <td>maximal geographic scale</td>\n",
       "      <td>geographical coverage</td>\n",
       "      <td>0.4905</td>\n",
       "    </tr>\n",
       "    <tr>\n",
       "      <th>3</th>\n",
       "      <td>maximal geographic scale</td>\n",
       "      <td>Scale factor</td>\n",
       "      <td>0.4757</td>\n",
       "    </tr>\n",
       "    <tr>\n",
       "      <th>4</th>\n",
       "      <td>maximal geographic scale</td>\n",
       "      <td>Scale economies evaluated  in the approximatio...</td>\n",
       "      <td>0.4730</td>\n",
       "    </tr>\n",
       "    <tr>\n",
       "      <th>5</th>\n",
       "      <td>data format</td>\n",
       "      <td>Data formats</td>\n",
       "      <td>0.6974</td>\n",
       "    </tr>\n",
       "    <tr>\n",
       "      <th>6</th>\n",
       "      <td>data format</td>\n",
       "      <td>Data format</td>\n",
       "      <td>0.6402</td>\n",
       "    </tr>\n",
       "    <tr>\n",
       "      <th>7</th>\n",
       "      <td>data format</td>\n",
       "      <td>text data format</td>\n",
       "      <td>0.5891</td>\n",
       "    </tr>\n",
       "    <tr>\n",
       "      <th>8</th>\n",
       "      <td>data format</td>\n",
       "      <td>dataset format</td>\n",
       "      <td>0.5265</td>\n",
       "    </tr>\n",
       "    <tr>\n",
       "      <th>9</th>\n",
       "      <td>data format</td>\n",
       "      <td>file format</td>\n",
       "      <td>0.5095</td>\n",
       "    </tr>\n",
       "  </tbody>\n",
       "</table>\n",
       "</div>"
      ],
      "text/plain": [
       "            source_property  \\\n",
       "0  maximal geographic scale   \n",
       "1  maximal geographic scale   \n",
       "2  maximal geographic scale   \n",
       "3  maximal geographic scale   \n",
       "4  maximal geographic scale   \n",
       "5               data format   \n",
       "6               data format   \n",
       "7               data format   \n",
       "8               data format   \n",
       "9               data format   \n",
       "\n",
       "                                  candidate_property similarity_score  \n",
       "0                             Geographic scale (Km²)           0.5569  \n",
       "1                                 Geographical scope           0.5455  \n",
       "2                              geographical coverage           0.4905  \n",
       "3                                       Scale factor           0.4757  \n",
       "4  Scale economies evaluated  in the approximatio...           0.4730  \n",
       "5                                       Data formats           0.6974  \n",
       "6                                        Data format           0.6402  \n",
       "7                                   text data format           0.5891  \n",
       "8                                     dataset format           0.5265  \n",
       "9                                        file format           0.5095  "
      ]
     },
     "execution_count": 22,
     "metadata": {},
     "output_type": "execute_result"
    }
   ],
   "source": [
    "source_properties = [\n",
    "    \"maximal geographic scale\",\n",
    "    \"data format\"\n",
    "]\n",
    "source_embeddings = model.encode(source_properties, prompt_name=\"query\")\n",
    "# Compute the (cosine) similarity between the source and candidates embeddings\n",
    "similarity = model.similarity(source_embeddings, candidate_embeddings)\n",
    "\n",
    "# print the top 5 most similar candidate properties for each source property\n",
    "import torch\n",
    "similarity = torch.tensor(similarity)\n",
    "top_k = 5\n",
    "values, indices = torch.topk(similarity, k=top_k, dim=1)\n",
    "top_candidates = []\n",
    "top_scores = []\n",
    "top_sources = []\n",
    "for i, source_property in enumerate(source_properties):\n",
    "    # print(f\"Source property: {source_property}\")\n",
    "    for j in range(top_k):\n",
    "        candidate_property = candidate_properties[indices[i][j]]\n",
    "        sim_score = values[i][j].item()\n",
    "        # print(f\"  Candidate property: {candidate_property}, similarity score: {sim_score:.4f}\")\n",
    "        top_candidates.append(candidate_property)\n",
    "        top_scores.append(f\"{sim_score:.4f}\")\n",
    "        top_sources.append(source_property)\n",
    "top_df = pd.DataFrame({\n",
    "    \"source_property\": top_sources,\n",
    "    \"candidate_property\": top_candidates,\n",
    "    \"similarity_score\": top_scores\n",
    "})\n",
    "top_df.head(10)"
   ]
  },
  {
   "cell_type": "code",
   "execution_count": 30,
   "id": "1e64d6ac",
   "metadata": {},
   "outputs": [
    {
     "name": "stdout",
     "output_type": "stream",
     "text": [
      "Testing valid output: {\"name\": \"Alice\", \"age\": 30, \"city\": \"New York\"}\n",
      "Validation successful!\n",
      "--------------------\n",
      "Testing invalid format output: This is not JSON.\n",
      "Validation failed with error: Expecting value: line 1 column 1 (char 0)\n",
      "--------------------\n",
      "Testing invalid schema output (missing key): {\"name\": \"Bob\", \"age\": 25}\n",
      "Validation failed with error: 1 validation error for User\n",
      "city\n",
      "  Field required [type=missing, input_value={'name': 'Bob', 'age': 25}, input_type=dict]\n",
      "    For further information visit https://errors.pydantic.dev/2.11/v/missing\n",
      "--------------------\n",
      "Testing invalid schema output (wrong data type): {\"name\": \"Charlie\", \"age\": \"35\", \"city\": \"London\"}\n",
      "Validation successful!\n"
     ]
    },
    {
     "data": {
      "text/plain": [
       "True"
      ]
     },
     "execution_count": 30,
     "metadata": {},
     "output_type": "execute_result"
    }
   ],
   "source": [
    "import json\n",
    "from pydantic import BaseModel, ValidationError\n",
    "\n",
    "# Define a Pydantic model for the expected JSON structure\n",
    "class User(BaseModel):\n",
    "    name: str\n",
    "    age: int\n",
    "    city: str\n",
    "\n",
    "def validate_llm_output_with_pydantic(llm_output):\n",
    "    \"\"\"\n",
    "    Checks if a string is valid JSON and conforms to the Pydantic schema.\n",
    "\n",
    "    Args:\n",
    "        llm_output (str): The string to validate.\n",
    "\n",
    "    Returns:\n",
    "        bool: True if validation is successful, False otherwise.\n",
    "    \"\"\"\n",
    "    try:\n",
    "        # First, parse the string as JSON\n",
    "        data = json.loads(llm_output)\n",
    "\n",
    "        # Then, validate the parsed data against the Pydantic model\n",
    "        _ = User(**data)\n",
    "\n",
    "        # If both steps succeed, the output is valid\n",
    "        print(\"Validation successful!\")\n",
    "        return True\n",
    "\n",
    "    except (json.JSONDecodeError, ValidationError) as e:\n",
    "        # Catch errors from both json.loads() and Pydantic validation\n",
    "        print(f\"Validation failed with error: {e}\")\n",
    "        return False\n",
    "\n",
    "# --- Example Usage ---\n",
    "\n",
    "# Example 1: Valid JSON that matches the schema\n",
    "valid_output = '{\"name\": \"Alice\", \"age\": 30, \"city\": \"New York\"}'\n",
    "print(f\"Testing valid output: {valid_output}\")\n",
    "validate_llm_output_with_pydantic(valid_output)\n",
    "# Expected output: Validation successful!\n",
    "\n",
    "print(\"-\" * 20)\n",
    "\n",
    "# Example 2: Invalid JSON format\n",
    "invalid_format_output = 'This is not JSON.'\n",
    "print(f\"Testing invalid format output: {invalid_format_output}\")\n",
    "validate_llm_output_with_pydantic(invalid_format_output)\n",
    "# Expected output: Validation failed with error: JSONDecodeError\n",
    "\n",
    "print(\"-\" * 20)\n",
    "\n",
    "# Example 3: Valid JSON, but fails Pydantic schema (missing a key)\n",
    "invalid_schema_output_1 = '{\"name\": \"Bob\", \"age\": 25}'\n",
    "print(f\"Testing invalid schema output (missing key): {invalid_schema_output_1}\")\n",
    "validate_llm_output_with_pydantic(invalid_schema_output_1)\n",
    "# Expected output: Validation failed with error: ValidationError\n",
    "\n",
    "print(\"-\" * 20)\n",
    "\n",
    "# Example 4: Valid JSON, but fails Pydantic schema (wrong data type)\n",
    "invalid_schema_output_2 = '{\"name\": \"Charlie\", \"age\": \"35\", \"city\": \"London\"}'\n",
    "print(f\"Testing invalid schema output (wrong data type): {invalid_schema_output_2}\")\n",
    "validate_llm_output_with_pydantic(invalid_schema_output_2)\n",
    "# Expected output: Validation failed with error: ValidationError"
   ]
  },
  {
   "cell_type": "code",
   "execution_count": null,
   "id": "a72e418f",
   "metadata": {},
   "outputs": [
    {
     "name": "stdout",
     "output_type": "stream",
     "text": [
      "Validating: {\"Entities\": [\"entity1\", \"entity2\"], \"Properties\": [\"property1\"]}\n",
      "✅ Validation successful!\n",
      "\n",
      "Validating: {\"Entities\": [], \"Properties\": []}\n",
      "✅ Validation successful!\n",
      "\n",
      "Validating: {\"Entities\": [\"entity1\"]}\n",
      "❌ Validation failed: 1 validation error for EntityProperty\n",
      "Properties\n",
      "  Field required [type=missing, input_value={'Entities': ['entity1']}, input_type=dict]\n",
      "    For further information visit https://errors.pydantic.dev/2.11/v/missing\n",
      "\n",
      "Validating: {\"Entities\": [123, \"entity2\"], \"Properties\": [\"property1\"]}\n",
      "❌ Validation failed: 1 validation error for EntityProperty\n",
      "Entities.0\n",
      "  Input should be a valid string [type=string_type, input_value=123, input_type=int]\n",
      "    For further information visit https://errors.pydantic.dev/2.11/v/string_type\n"
     ]
    },
    {
     "data": {
      "text/plain": [
       "False"
      ]
     },
     "execution_count": 36,
     "metadata": {},
     "output_type": "execute_result"
    }
   ],
   "source": [
    "import json\n",
    "from pydantic import BaseModel, ValidationError, conlist\n",
    "\n",
    "\n",
    "\n",
    "# --- Example Usage ---\n",
    "\n",
    "# 1. Valid output with content\n",
    "valid_output = '{\"Entities\": [\"entity1\", \"entity2\"], \"Properties\": [\"property1\"]}'\n",
    "print(f\"Validating: {valid_output}\")\n",
    "validate_llm_output_with_pydantic(valid_output)\n",
    "\n",
    "# 2. Valid output with empty lists\n",
    "valid_output_empty = '{\"Entities\": [], \"Properties\": []}'\n",
    "print(f\"\\nValidating: {valid_output_empty}\")\n",
    "validate_llm_output_with_pydantic(valid_output_empty)\n",
    "\n",
    "# 3. Invalid output (missing a key)\n",
    "invalid_output_missing_key = '{\"Entities\": [\"entity1\"]}'\n",
    "print(f\"\\nValidating: {invalid_output_missing_key}\")\n",
    "validate_llm_output_with_pydantic(invalid_output_missing_key)\n",
    "\n",
    "# 4. Invalid output (wrong data type for a list item)\n",
    "invalid_output_wrong_type = '{\"Entities\": [123, \"entity2\"], \"Properties\": [\"property1\"]}'\n",
    "print(f\"\\nValidating: {invalid_output_wrong_type}\")\n",
    "validate_llm_output_with_pydantic(invalid_output_wrong_type)"
   ]
  },
  {
   "cell_type": "code",
   "execution_count": null,
   "id": "f1532935",
   "metadata": {},
   "outputs": [],
   "source": []
  }
 ],
 "metadata": {
  "kernelspec": {
   "display_name": "graphrag",
   "language": "python",
   "name": "python3"
  },
  "language_info": {
   "codemirror_mode": {
    "name": "ipython",
    "version": 3
   },
   "file_extension": ".py",
   "mimetype": "text/x-python",
   "name": "python",
   "nbconvert_exporter": "python",
   "pygments_lexer": "ipython3",
   "version": "3.13.7"
  }
 },
 "nbformat": 4,
 "nbformat_minor": 5
}
