{
 "cells": [
  {
   "cell_type": "code",
   "execution_count": 10,
   "id": "56e0552d",
   "metadata": {},
   "outputs": [
    {
     "name": "stdout",
     "output_type": "stream",
     "text": [
      "Successfully processed 2565 queries.\n",
      "Predicate frequency list has been saved to 'orkgp_predicate_frequency_all.csv'.\n"
     ]
    }
   ],
   "source": [
    "import json\n",
    "import re\n",
    "from collections import Counter\n",
    "import csv\n",
    "\n",
    "def extract_sparql_queries(json_file_path):\n",
    "    \"\"\"\n",
    "    Extracts SPARQL queries from a JSON file and returns them as a list.\n",
    "    \"\"\"\n",
    "    sparql_queries = []\n",
    "    try:\n",
    "        with open(json_file_path, 'r', encoding='utf-8') as f:\n",
    "            data = json.load(f)\n",
    "        if \"questions\" in data and isinstance(data[\"questions\"], list):\n",
    "            for question in data[\"questions\"]:\n",
    "                if \"query\" in question and \"sparql\" in question[\"query\"]:\n",
    "                    sparql_queries.append(question[\"query\"][\"sparql\"])\n",
    "    except (FileNotFoundError, json.JSONDecodeError, KeyError) as e:\n",
    "        print(f\"An error occurred: {e}\")\n",
    "    return sparql_queries\n",
    "\n",
    "def extract_and_count_predicates(queries):\n",
    "    \"\"\"\n",
    "    Extracts and counts predicates with the orkgp: prefix from a list of SPARQL queries.\n",
    "    \"\"\"\n",
    "    all_predicates = []\n",
    "    # Pattern to find orkgp: followed by letters, numbers, or underscores\n",
    "    pattern = re.compile(r'\\borkgp:[a-zA-Z0-9_]+\\b')\n",
    "    for query in queries:\n",
    "        found_predicates = pattern.findall(query)\n",
    "        all_predicates.extend(found_predicates)\n",
    "    predicate_counts = Counter(all_predicates)\n",
    "    return predicate_counts\n",
    "\n",
    "def save_to_csv(data, filename):\n",
    "    \"\"\"\n",
    "    Saves a dictionary of predicate frequencies to a CSV file, ordered by frequency.\n",
    "    \"\"\"\n",
    "    with open(filename, 'w', newline='', encoding='utf-8') as csvfile:\n",
    "        fieldnames = ['predicate', 'frequency']\n",
    "        writer = csv.DictWriter(csvfile, fieldnames=fieldnames)\n",
    "        writer.writeheader()\n",
    "\n",
    "        # Sort the dictionary items by frequency in descending order\n",
    "        sorted_data = sorted(data.items(), key=lambda item: item[1], reverse=True)\n",
    "\n",
    "        for predicate, count in sorted_data:\n",
    "            writer.writerow({'predicate': predicate, 'frequency': count})\n",
    "\n",
    "# --- Main execution flow ---\n",
    "\n",
    "# Replace 'your_input_file.json' with the actual path to your JSON file.\n",
    "json_file_path = '/Users/sherrypan/GitHub/GAR_SKGQA/datasets/sciqa/all.json'\n",
    "output_csv_filename = 'orkgp_predicate_frequency_all.csv'\n",
    "\n",
    "# 1. Extract queries from the JSON file\n",
    "sparql_queries = extract_sparql_queries(json_file_path)\n",
    "\n",
    "if sparql_queries:\n",
    "    # 2. Extract and count the orkgp predicates\n",
    "    frequency_list = extract_and_count_predicates(sparql_queries)\n",
    "    \n",
    "    # 3. Save the results to a CSV file\n",
    "    save_to_csv(frequency_list, output_csv_filename)\n",
    "    \n",
    "    print(f\"Successfully processed {len(sparql_queries)} queries.\")\n",
    "    print(f\"Predicate frequency list has been saved to '{output_csv_filename}'.\")\n",
    "else:\n",
    "    print(\"No queries were found or an error occurred during extraction. No CSV file was generated.\")"
   ]
  },
  {
   "cell_type": "code",
   "execution_count": null,
   "id": "8381cb7e",
   "metadata": {},
   "outputs": [],
   "source": []
  }
 ],
 "metadata": {
  "kernelspec": {
   "display_name": "graphrag",
   "language": "python",
   "name": "python3"
  },
  "language_info": {
   "codemirror_mode": {
    "name": "ipython",
    "version": 3
   },
   "file_extension": ".py",
   "mimetype": "text/x-python",
   "name": "python",
   "nbconvert_exporter": "python",
   "pygments_lexer": "ipython3",
   "version": "3.13.7"
  }
 },
 "nbformat": 4,
 "nbformat_minor": 5
}
